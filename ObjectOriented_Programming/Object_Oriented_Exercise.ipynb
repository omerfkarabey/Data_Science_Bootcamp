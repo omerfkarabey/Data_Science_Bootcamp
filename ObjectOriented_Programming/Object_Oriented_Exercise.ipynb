{
 "cells": [
  {
   "cell_type": "markdown",
   "metadata": {
    "collapsed": true
   },
   "source": [
    "# OOP Review Exercises\n",
    "\n",
    "Since OOP can be complex for recruits, let's give you some quick exercises to check your understanding!\n",
    "\n",
    "### Exercise 1\n",
    "\n",
    "** Create a Sphere class that accepts a radius upon instantiation and has a volume and surface area method. **"
   ]
  },
  {
   "cell_type": "code",
   "execution_count": 7,
   "metadata": {},
   "outputs": [],
   "source": [
    "class Sphere():\n",
    "    # Create the methods here!\n",
    "    pi = 3.14\n",
    "    \n",
    "    def __init__(self, radius):\n",
    "        self.radius = radius\n",
    "        \n",
    "    def volume(self):\n",
    "        return (4/3)*Sphere.pi*self.radius**3\n",
    "    \n",
    "    def surface_area(self):\n",
    "        return 4*Sphere.pi*self.radius**2"
   ]
  },
  {
   "cell_type": "markdown",
   "metadata": {},
   "source": [
    "___"
   ]
  },
  {
   "cell_type": "code",
   "execution_count": 8,
   "metadata": {},
   "outputs": [],
   "source": [
    "s = Sphere(1)"
   ]
  },
  {
   "cell_type": "code",
   "execution_count": 9,
   "metadata": {},
   "outputs": [
    {
     "data": {
      "text/plain": [
       "12.56"
      ]
     },
     "execution_count": 9,
     "metadata": {},
     "output_type": "execute_result"
    }
   ],
   "source": [
    "s.surface_area()"
   ]
  },
  {
   "cell_type": "code",
   "execution_count": 10,
   "metadata": {
    "scrolled": true
   },
   "outputs": [
    {
     "data": {
      "text/plain": [
       "4.1866666666666665"
      ]
     },
     "execution_count": 10,
     "metadata": {},
     "output_type": "execute_result"
    }
   ],
   "source": [
    "s.volume()"
   ]
  },
  {
   "cell_type": "markdown",
   "metadata": {},
   "source": [
    "____"
   ]
  },
  {
   "cell_type": "markdown",
   "metadata": {},
   "source": [
    "## Exercise 2\n",
    "\n",
    "**For this exercise we will have several steps.**\n",
    "1. Create a class called GuessingGame.\n",
    "2. The class doesn't need any user provided arguments for instantiation.\n",
    "3. In the __init__ method have the class set a  self.rand_choice attribute to a random integer between 0-10 (use import random)\n",
    "4. Now create a method in the class called reset_random that will reset this self.rand_choice attribute\n",
    "5. Now create a method called guess that uses the input() function to accept a user guess for the random number. This method should print out a statement indicating whether or not the user guess was correct. Bonus: Add logic that will report back to the user to guess higher or lower next time they call the guess() method.\n",
    "\n",
    "**Check out the example code below for what the game should look like:**"
   ]
  },
  {
   "cell_type": "code",
   "execution_count": 101,
   "metadata": {},
   "outputs": [],
   "source": [
    "import random\n",
    "\n",
    "class GuessingGame():\n",
    "    \n",
    "    def __init__(self, rand_choice=random.randint(0,10)):\n",
    "        \n",
    "        self.rand_choice = rand_choice\n",
    "    \n",
    "    def reset_random(self):\n",
    "                \n",
    "        self.rand_choice = random.randint(0,10)\n",
    "        print('Reset to {}'.format(self.rand_choice))\n",
    "        \n",
    "    def guess(self):\n",
    "        \n",
    "        p = 11\n",
    "        while p!=self.rand_choice:\n",
    "            \n",
    "            p = int(input('Pleas guess the number:'))\n",
    "            \n",
    "            if p!=self.rand_choice:\n",
    "                print('Please try again')\n",
    "                \n",
    "            elif p == self.rand_choice:\n",
    "                print('Correct guess')"
   ]
  },
  {
   "cell_type": "code",
   "execution_count": 102,
   "metadata": {},
   "outputs": [],
   "source": [
    "g = GuessingGame()"
   ]
  },
  {
   "cell_type": "code",
   "execution_count": 103,
   "metadata": {},
   "outputs": [
    {
     "data": {
      "text/plain": [
       "10"
      ]
     },
     "execution_count": 103,
     "metadata": {},
     "output_type": "execute_result"
    }
   ],
   "source": [
    "g.rand_choice"
   ]
  },
  {
   "cell_type": "code",
   "execution_count": 104,
   "metadata": {},
   "outputs": [
    {
     "name": "stdout",
     "output_type": "stream",
     "text": [
      "Reset to 6\n"
     ]
    }
   ],
   "source": [
    "g.reset_random()"
   ]
  },
  {
   "cell_type": "code",
   "execution_count": 105,
   "metadata": {},
   "outputs": [
    {
     "data": {
      "text/plain": [
       "6"
      ]
     },
     "execution_count": 105,
     "metadata": {},
     "output_type": "execute_result"
    }
   ],
   "source": [
    "g.rand_choice"
   ]
  },
  {
   "cell_type": "code",
   "execution_count": 106,
   "metadata": {},
   "outputs": [
    {
     "name": "stdout",
     "output_type": "stream",
     "text": [
      "Pleas guess the number:5\n",
      "Please try again\n",
      "Pleas guess the number:5\n",
      "Please try again\n",
      "Pleas guess the number:6\n",
      "Correct guess\n"
     ]
    }
   ],
   "source": [
    "g.guess()"
   ]
  },
  {
   "cell_type": "code",
   "execution_count": 100,
   "metadata": {},
   "outputs": [
    {
     "name": "stdout",
     "output_type": "stream",
     "text": [
      "Pleas guess the number:6\n",
      "Please try again\n",
      "Pleas guess the number:4\n",
      "Please try again\n",
      "Pleas guess the number:8\n",
      "Please try again\n",
      "Pleas guess the number:9\n",
      "Please try again\n",
      "Pleas guess the number:7\n",
      "Please try again\n",
      "Pleas guess the number:1\n",
      "Please try again\n",
      "Pleas guess the number:2\n",
      "Please try again\n",
      "Pleas guess the number:3\n",
      "Please try again\n",
      "Pleas guess the number:4\n",
      "Please try again\n",
      "Pleas guess the number:5\n",
      "Correct guess\n"
     ]
    }
   ],
   "source": [
    "g.guess()"
   ]
  },
  {
   "cell_type": "markdown",
   "metadata": {},
   "source": [
    "**Best of luck on the exercises! Solutions are coming up next!**"
   ]
  }
 ],
 "metadata": {
  "anaconda-cloud": {},
  "kernelspec": {
   "display_name": "Python 3",
   "language": "python",
   "name": "python3"
  },
  "language_info": {
   "codemirror_mode": {
    "name": "ipython",
    "version": 3
   },
   "file_extension": ".py",
   "mimetype": "text/x-python",
   "name": "python",
   "nbconvert_exporter": "python",
   "pygments_lexer": "ipython3",
   "version": "3.7.6"
  }
 },
 "nbformat": 4,
 "nbformat_minor": 2
}
