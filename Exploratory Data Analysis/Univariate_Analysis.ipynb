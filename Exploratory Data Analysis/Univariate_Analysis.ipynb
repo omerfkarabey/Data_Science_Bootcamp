{
 "cells": [
  {
   "cell_type": "code",
   "execution_count": 2,
   "metadata": {},
   "outputs": [],
   "source": [
    "import matplotlib.pyplot as plt\n",
    "import seaborn as sns\n",
    "import numpy as np\n",
    "import pandas as pd\n",
    "import seaborn as sns\n",
    "import scipy.stats as stats\n",
    "from scipy.stats.mstats import winsorize\n",
    "import warnings\n",
    "\n",
    "warnings.filterwarnings('ignore')\n",
    "sns.set(style=\"whitegrid\")\n",
    "\n",
    "plt.rcParams['figure.dpi'] = 100\n",
    "plt.rcParams['figure.figsize'] = (8,5.5)"
   ]
  },
  {
   "cell_type": "code",
   "execution_count": 3,
   "metadata": {},
   "outputs": [
    {
     "data": {
      "text/html": [
       "<div>\n",
       "<style scoped>\n",
       "    .dataframe tbody tr th:only-of-type {\n",
       "        vertical-align: middle;\n",
       "    }\n",
       "\n",
       "    .dataframe tbody tr th {\n",
       "        vertical-align: top;\n",
       "    }\n",
       "\n",
       "    .dataframe thead th {\n",
       "        text-align: right;\n",
       "    }\n",
       "</style>\n",
       "<table border=\"1\" class=\"dataframe\">\n",
       "  <thead>\n",
       "    <tr style=\"text-align: right;\">\n",
       "      <th></th>\n",
       "      <th>PRIMARY_KEY</th>\n",
       "      <th>STATE</th>\n",
       "      <th>YEAR</th>\n",
       "      <th>ENROLL</th>\n",
       "      <th>TOTAL_REVENUE</th>\n",
       "      <th>FEDERAL_REVENUE</th>\n",
       "      <th>STATE_REVENUE</th>\n",
       "      <th>LOCAL_REVENUE</th>\n",
       "      <th>TOTAL_EXPENDITURE</th>\n",
       "      <th>INSTRUCTION_EXPENDITURE</th>\n",
       "      <th>...</th>\n",
       "      <th>GRADES_4_G</th>\n",
       "      <th>GRADES_8_G</th>\n",
       "      <th>GRADES_12_G</th>\n",
       "      <th>GRADES_1_8_G</th>\n",
       "      <th>GRADES_9_12_G</th>\n",
       "      <th>GRADES_ALL_G</th>\n",
       "      <th>AVG_MATH_4_SCORE</th>\n",
       "      <th>AVG_MATH_8_SCORE</th>\n",
       "      <th>AVG_READING_4_SCORE</th>\n",
       "      <th>AVG_READING_8_SCORE</th>\n",
       "    </tr>\n",
       "  </thead>\n",
       "  <tbody>\n",
       "    <tr>\n",
       "      <th>0</th>\n",
       "      <td>1992_ALABAMA</td>\n",
       "      <td>ALABAMA</td>\n",
       "      <td>1992</td>\n",
       "      <td>NaN</td>\n",
       "      <td>2678885.0</td>\n",
       "      <td>304177.0</td>\n",
       "      <td>1659028.0</td>\n",
       "      <td>715680.0</td>\n",
       "      <td>2653798.0</td>\n",
       "      <td>1481703.0</td>\n",
       "      <td>...</td>\n",
       "      <td>57948.0</td>\n",
       "      <td>58025.0</td>\n",
       "      <td>41167.0</td>\n",
       "      <td>471564.0</td>\n",
       "      <td>196386.0</td>\n",
       "      <td>676174.0</td>\n",
       "      <td>208.327876</td>\n",
       "      <td>252.187522</td>\n",
       "      <td>207.963517</td>\n",
       "      <td>NaN</td>\n",
       "    </tr>\n",
       "    <tr>\n",
       "      <th>1</th>\n",
       "      <td>1992_ALASKA</td>\n",
       "      <td>ALASKA</td>\n",
       "      <td>1992</td>\n",
       "      <td>NaN</td>\n",
       "      <td>1049591.0</td>\n",
       "      <td>106780.0</td>\n",
       "      <td>720711.0</td>\n",
       "      <td>222100.0</td>\n",
       "      <td>972488.0</td>\n",
       "      <td>498362.0</td>\n",
       "      <td>...</td>\n",
       "      <td>9748.0</td>\n",
       "      <td>8789.0</td>\n",
       "      <td>6714.0</td>\n",
       "      <td>79117.0</td>\n",
       "      <td>30847.0</td>\n",
       "      <td>112335.0</td>\n",
       "      <td>NaN</td>\n",
       "      <td>NaN</td>\n",
       "      <td>NaN</td>\n",
       "      <td>258.859712</td>\n",
       "    </tr>\n",
       "    <tr>\n",
       "      <th>2</th>\n",
       "      <td>1992_ARIZONA</td>\n",
       "      <td>ARIZONA</td>\n",
       "      <td>1992</td>\n",
       "      <td>NaN</td>\n",
       "      <td>3258079.0</td>\n",
       "      <td>297888.0</td>\n",
       "      <td>1369815.0</td>\n",
       "      <td>1590376.0</td>\n",
       "      <td>3401580.0</td>\n",
       "      <td>1435908.0</td>\n",
       "      <td>...</td>\n",
       "      <td>55433.0</td>\n",
       "      <td>49081.0</td>\n",
       "      <td>37410.0</td>\n",
       "      <td>437127.0</td>\n",
       "      <td>175210.0</td>\n",
       "      <td>614881.0</td>\n",
       "      <td>215.253932</td>\n",
       "      <td>265.366278</td>\n",
       "      <td>206.212716</td>\n",
       "      <td>262.169895</td>\n",
       "    </tr>\n",
       "    <tr>\n",
       "      <th>3</th>\n",
       "      <td>1992_ARKANSAS</td>\n",
       "      <td>ARKANSAS</td>\n",
       "      <td>1992</td>\n",
       "      <td>NaN</td>\n",
       "      <td>1711959.0</td>\n",
       "      <td>178571.0</td>\n",
       "      <td>958785.0</td>\n",
       "      <td>574603.0</td>\n",
       "      <td>1743022.0</td>\n",
       "      <td>964323.0</td>\n",
       "      <td>...</td>\n",
       "      <td>34632.0</td>\n",
       "      <td>36011.0</td>\n",
       "      <td>27651.0</td>\n",
       "      <td>281338.0</td>\n",
       "      <td>123113.0</td>\n",
       "      <td>405259.0</td>\n",
       "      <td>210.206028</td>\n",
       "      <td>256.312090</td>\n",
       "      <td>208.634458</td>\n",
       "      <td>264.619665</td>\n",
       "    </tr>\n",
       "    <tr>\n",
       "      <th>4</th>\n",
       "      <td>1992_CALIFORNIA</td>\n",
       "      <td>CALIFORNIA</td>\n",
       "      <td>1992</td>\n",
       "      <td>NaN</td>\n",
       "      <td>26260025.0</td>\n",
       "      <td>2072470.0</td>\n",
       "      <td>16546514.0</td>\n",
       "      <td>7641041.0</td>\n",
       "      <td>27138832.0</td>\n",
       "      <td>14358922.0</td>\n",
       "      <td>...</td>\n",
       "      <td>418418.0</td>\n",
       "      <td>363296.0</td>\n",
       "      <td>270675.0</td>\n",
       "      <td>3286034.0</td>\n",
       "      <td>1372011.0</td>\n",
       "      <td>4717112.0</td>\n",
       "      <td>208.398961</td>\n",
       "      <td>260.892247</td>\n",
       "      <td>196.764414</td>\n",
       "      <td>NaN</td>\n",
       "    </tr>\n",
       "  </tbody>\n",
       "</table>\n",
       "<p>5 rows × 25 columns</p>\n",
       "</div>"
      ],
      "text/plain": [
       "       PRIMARY_KEY       STATE  YEAR  ENROLL  TOTAL_REVENUE  FEDERAL_REVENUE  \\\n",
       "0     1992_ALABAMA     ALABAMA  1992     NaN      2678885.0         304177.0   \n",
       "1      1992_ALASKA      ALASKA  1992     NaN      1049591.0         106780.0   \n",
       "2     1992_ARIZONA     ARIZONA  1992     NaN      3258079.0         297888.0   \n",
       "3    1992_ARKANSAS    ARKANSAS  1992     NaN      1711959.0         178571.0   \n",
       "4  1992_CALIFORNIA  CALIFORNIA  1992     NaN     26260025.0        2072470.0   \n",
       "\n",
       "   STATE_REVENUE  LOCAL_REVENUE  TOTAL_EXPENDITURE  INSTRUCTION_EXPENDITURE  \\\n",
       "0      1659028.0       715680.0          2653798.0                1481703.0   \n",
       "1       720711.0       222100.0           972488.0                 498362.0   \n",
       "2      1369815.0      1590376.0          3401580.0                1435908.0   \n",
       "3       958785.0       574603.0          1743022.0                 964323.0   \n",
       "4     16546514.0      7641041.0         27138832.0               14358922.0   \n",
       "\n",
       "          ...           GRADES_4_G  GRADES_8_G  GRADES_12_G  GRADES_1_8_G  \\\n",
       "0         ...              57948.0     58025.0      41167.0      471564.0   \n",
       "1         ...               9748.0      8789.0       6714.0       79117.0   \n",
       "2         ...              55433.0     49081.0      37410.0      437127.0   \n",
       "3         ...              34632.0     36011.0      27651.0      281338.0   \n",
       "4         ...             418418.0    363296.0     270675.0     3286034.0   \n",
       "\n",
       "   GRADES_9_12_G  GRADES_ALL_G  AVG_MATH_4_SCORE  AVG_MATH_8_SCORE  \\\n",
       "0       196386.0      676174.0        208.327876        252.187522   \n",
       "1        30847.0      112335.0               NaN               NaN   \n",
       "2       175210.0      614881.0        215.253932        265.366278   \n",
       "3       123113.0      405259.0        210.206028        256.312090   \n",
       "4      1372011.0     4717112.0        208.398961        260.892247   \n",
       "\n",
       "   AVG_READING_4_SCORE  AVG_READING_8_SCORE  \n",
       "0           207.963517                  NaN  \n",
       "1                  NaN           258.859712  \n",
       "2           206.212716           262.169895  \n",
       "3           208.634458           264.619665  \n",
       "4           196.764414                  NaN  \n",
       "\n",
       "[5 rows x 25 columns]"
      ]
     },
     "execution_count": 3,
     "metadata": {},
     "output_type": "execute_result"
    }
   ],
   "source": [
    "df = pd.read_csv('states_all.csv')\n",
    "df.head()"
   ]
  },
  {
   "cell_type": "markdown",
   "metadata": {},
   "source": [
    "Burada Arizona eyaletinin verilerini inceleyeceğiz ve eksik değerleri uygun yöntemlerle tamamlayacağız."
   ]
  },
  {
   "cell_type": "code",
   "execution_count": 27,
   "metadata": {},
   "outputs": [
    {
     "data": {
      "image/png": "[encoded data removed]",
      "text/plain": [
       "<Figure size 800x200 with 2 Axes>"
      ]
     },
     "metadata": {},
     "output_type": "display_data"
    }
   ],
   "source": [
    "plt.figure(figsize=(8,2))\n",
    "df_arizona = df[df['STATE']=='ARIZONA']\n",
    "plt.subplot(1,2,1)\n",
    "plt.plot(df_arizona['YEAR'], df_arizona['TOTAL_REVENUE'])\n",
    "plt.title('Total revenue for Arizona')\n",
    "\n",
    "plt.subplot(1,2,2)\n",
    "plt.plot(df_arizona['YEAR'], df_arizona['TOTAL_EXPENDITURE'])\n",
    "plt.title('Total expenditure for ARIZONA')\n",
    "plt.show()\n"
   ]
  },
  {
   "cell_type": "markdown",
   "metadata": {},
   "source": [
    "1. Veriyi incelediğimizde eksik değerin sonda olduğunu tespit ettik. Üstteki grafik ise\n",
    "bize eksik değerleri ortalamayla onarmanın yanlış olacağını söylüyor. Çünkü yıllara göre\n",
    "bir artış söz konusu. Dolayısıyla eksik değerlerimizi enterpolasyon ile dolduralım.\n"
   ]
  },
  {
   "cell_type": "code",
   "execution_count": 140,
   "metadata": {},
   "outputs": [
    {
     "data": {
      "text/html": [
       "<div>\n",
       "<style scoped>\n",
       "    .dataframe tbody tr th:only-of-type {\n",
       "        vertical-align: middle;\n",
       "    }\n",
       "\n",
       "    .dataframe tbody tr th {\n",
       "        vertical-align: top;\n",
       "    }\n",
       "\n",
       "    .dataframe thead th {\n",
       "        text-align: right;\n",
       "    }\n",
       "</style>\n",
       "<table border=\"1\" class=\"dataframe\">\n",
       "  <thead>\n",
       "    <tr style=\"text-align: right;\">\n",
       "      <th></th>\n",
       "      <th>TOTAL_REVENUE</th>\n",
       "      <th>TOTAL_EXPENDITURE</th>\n",
       "    </tr>\n",
       "  </thead>\n",
       "  <tbody>\n",
       "    <tr>\n",
       "      <th>1078</th>\n",
       "      <td>8164324.0</td>\n",
       "      <td>7600581.0</td>\n",
       "    </tr>\n",
       "    <tr>\n",
       "      <th>1129</th>\n",
       "      <td>8361708.0</td>\n",
       "      <td>8109460.0</td>\n",
       "    </tr>\n",
       "    <tr>\n",
       "      <th>1180</th>\n",
       "      <td>8230507.0</td>\n",
       "      <td>7902600.0</td>\n",
       "    </tr>\n",
       "    <tr>\n",
       "      <th>1231</th>\n",
       "      <td>8503034.0</td>\n",
       "      <td>7987011.0</td>\n",
       "    </tr>\n",
       "    <tr>\n",
       "      <th>1443</th>\n",
       "      <td>8503034.0</td>\n",
       "      <td>7987011.0</td>\n",
       "    </tr>\n",
       "  </tbody>\n",
       "</table>\n",
       "</div>"
      ],
      "text/plain": [
       "      TOTAL_REVENUE  TOTAL_EXPENDITURE\n",
       "1078      8164324.0          7600581.0\n",
       "1129      8361708.0          8109460.0\n",
       "1180      8230507.0          7902600.0\n",
       "1231      8503034.0          7987011.0\n",
       "1443      8503034.0          7987011.0"
      ]
     },
     "execution_count": 140,
     "metadata": {},
     "output_type": "execute_result"
    }
   ],
   "source": [
    "df_arizona['TOTAL_REVENUE'].interpolate()\n",
    "df_arizona['TOTAL_EXPENDITURE'].interpolate()\n",
    "df_arizona[['TOTAL_REVENUE','TOTAL_EXPENDITURE']].tail()"
   ]
  },
  {
   "cell_type": "code",
   "execution_count": 122,
   "metadata": {},
   "outputs": [
    {
     "data": {
      "text/html": [
       "<div>\n",
       "<style scoped>\n",
       "    .dataframe tbody tr th:only-of-type {\n",
       "        vertical-align: middle;\n",
       "    }\n",
       "\n",
       "    .dataframe tbody tr th {\n",
       "        vertical-align: top;\n",
       "    }\n",
       "\n",
       "    .dataframe thead th {\n",
       "        text-align: right;\n",
       "    }\n",
       "</style>\n",
       "<table border=\"1\" class=\"dataframe\">\n",
       "  <thead>\n",
       "    <tr style=\"text-align: right;\">\n",
       "      <th></th>\n",
       "      <th>YEAR</th>\n",
       "      <th>ENROLL</th>\n",
       "      <th>TOTAL_REVENUE</th>\n",
       "      <th>FEDERAL_REVENUE</th>\n",
       "      <th>STATE_REVENUE</th>\n",
       "      <th>LOCAL_REVENUE</th>\n",
       "      <th>TOTAL_EXPENDITURE</th>\n",
       "      <th>INSTRUCTION_EXPENDITURE</th>\n",
       "      <th>SUPPORT_SERVICES_EXPENDITURE</th>\n",
       "      <th>OTHER_EXPENDITURE</th>\n",
       "      <th>...</th>\n",
       "      <th>GRADES_4_G</th>\n",
       "      <th>GRADES_8_G</th>\n",
       "      <th>GRADES_12_G</th>\n",
       "      <th>GRADES_1_8_G</th>\n",
       "      <th>GRADES_9_12_G</th>\n",
       "      <th>GRADES_ALL_G</th>\n",
       "      <th>AVG_MATH_4_SCORE</th>\n",
       "      <th>AVG_MATH_8_SCORE</th>\n",
       "      <th>AVG_READING_4_SCORE</th>\n",
       "      <th>AVG_READING_8_SCORE</th>\n",
       "    </tr>\n",
       "  </thead>\n",
       "  <tbody>\n",
       "    <tr>\n",
       "      <th>count</th>\n",
       "      <td>26.000000</td>\n",
       "      <td>24.000000</td>\n",
       "      <td>2.600000e+01</td>\n",
       "      <td>2.500000e+01</td>\n",
       "      <td>2.500000e+01</td>\n",
       "      <td>2.500000e+01</td>\n",
       "      <td>2.600000e+01</td>\n",
       "      <td>2.500000e+01</td>\n",
       "      <td>2.500000e+01</td>\n",
       "      <td>24.000000</td>\n",
       "      <td>...</td>\n",
       "      <td>24.000000</td>\n",
       "      <td>24.000000</td>\n",
       "      <td>24.000000</td>\n",
       "      <td>24.000000</td>\n",
       "      <td>24.000000</td>\n",
       "      <td>2.400000e+01</td>\n",
       "      <td>26.000000</td>\n",
       "      <td>26.000000</td>\n",
       "      <td>26.000000</td>\n",
       "      <td>26.000000</td>\n",
       "    </tr>\n",
       "    <tr>\n",
       "      <th>mean</th>\n",
       "      <td>2004.500000</td>\n",
       "      <td>874322.083333</td>\n",
       "      <td>6.651503e+06</td>\n",
       "      <td>7.865178e+05</td>\n",
       "      <td>2.771293e+06</td>\n",
       "      <td>3.019631e+06</td>\n",
       "      <td>6.604990e+06</td>\n",
       "      <td>3.024480e+06</td>\n",
       "      <td>2.073115e+06</td>\n",
       "      <td>334409.875000</td>\n",
       "      <td>...</td>\n",
       "      <td>74519.416667</td>\n",
       "      <td>71993.791667</td>\n",
       "      <td>63244.500000</td>\n",
       "      <td>596437.500000</td>\n",
       "      <td>274507.500000</td>\n",
       "      <td>8.786317e+05</td>\n",
       "      <td>227.217688</td>\n",
       "      <td>273.902179</td>\n",
       "      <td>209.258986</td>\n",
       "      <td>264.253350</td>\n",
       "    </tr>\n",
       "    <tr>\n",
       "      <th>std</th>\n",
       "      <td>7.648529</td>\n",
       "      <td>93085.522355</td>\n",
       "      <td>2.025445e+06</td>\n",
       "      <td>3.552691e+05</td>\n",
       "      <td>8.565975e+05</td>\n",
       "      <td>9.160754e+05</td>\n",
       "      <td>1.954180e+06</td>\n",
       "      <td>9.860688e+05</td>\n",
       "      <td>7.505329e+05</td>\n",
       "      <td>94020.649117</td>\n",
       "      <td>...</td>\n",
       "      <td>9961.532124</td>\n",
       "      <td>11494.774537</td>\n",
       "      <td>18052.651957</td>\n",
       "      <td>81237.863178</td>\n",
       "      <td>57892.699749</td>\n",
       "      <td>1.412706e+05</td>\n",
       "      <td>8.373868</td>\n",
       "      <td>5.593414</td>\n",
       "      <td>3.384581</td>\n",
       "      <td>4.200392</td>\n",
       "    </tr>\n",
       "    <tr>\n",
       "      <th>min</th>\n",
       "      <td>1992.000000</td>\n",
       "      <td>676297.000000</td>\n",
       "      <td>3.258079e+06</td>\n",
       "      <td>2.978880e+05</td>\n",
       "      <td>1.369815e+06</td>\n",
       "      <td>1.590376e+06</td>\n",
       "      <td>3.401580e+06</td>\n",
       "      <td>1.435908e+06</td>\n",
       "      <td>1.000914e+06</td>\n",
       "      <td>164083.000000</td>\n",
       "      <td>...</td>\n",
       "      <td>55433.000000</td>\n",
       "      <td>49081.000000</td>\n",
       "      <td>37410.000000</td>\n",
       "      <td>437127.000000</td>\n",
       "      <td>175210.000000</td>\n",
       "      <td>6.148810e+05</td>\n",
       "      <td>215.253932</td>\n",
       "      <td>265.366278</td>\n",
       "      <td>205.347275</td>\n",
       "      <td>254.799747</td>\n",
       "    </tr>\n",
       "    <tr>\n",
       "      <th>25%</th>\n",
       "      <td>1998.250000</td>\n",
       "      <td>809200.500000</td>\n",
       "      <td>4.777928e+06</td>\n",
       "      <td>4.703980e+05</td>\n",
       "      <td>2.000801e+06</td>\n",
       "      <td>2.204097e+06</td>\n",
       "      <td>4.812691e+06</td>\n",
       "      <td>2.091741e+06</td>\n",
       "      <td>1.315931e+06</td>\n",
       "      <td>268163.500000</td>\n",
       "      <td>...</td>\n",
       "      <td>67115.500000</td>\n",
       "      <td>63085.750000</td>\n",
       "      <td>45424.500000</td>\n",
       "      <td>538365.000000</td>\n",
       "      <td>223091.250000</td>\n",
       "      <td>7.665315e+05</td>\n",
       "      <td>218.245697</td>\n",
       "      <td>269.472656</td>\n",
       "      <td>206.391069</td>\n",
       "      <td>261.770402</td>\n",
       "    </tr>\n",
       "    <tr>\n",
       "      <th>50%</th>\n",
       "      <td>2004.500000</td>\n",
       "      <td>907901.000000</td>\n",
       "      <td>7.334016e+06</td>\n",
       "      <td>8.354640e+05</td>\n",
       "      <td>2.912629e+06</td>\n",
       "      <td>3.101450e+06</td>\n",
       "      <td>6.934003e+06</td>\n",
       "      <td>3.224647e+06</td>\n",
       "      <td>2.115629e+06</td>\n",
       "      <td>341430.500000</td>\n",
       "      <td>...</td>\n",
       "      <td>76658.500000</td>\n",
       "      <td>77485.500000</td>\n",
       "      <td>69925.000000</td>\n",
       "      <td>620493.000000</td>\n",
       "      <td>307924.000000</td>\n",
       "      <td>9.440270e+05</td>\n",
       "      <td>229.578354</td>\n",
       "      <td>273.523155</td>\n",
       "      <td>208.169725</td>\n",
       "      <td>263.740321</td>\n",
       "    </tr>\n",
       "    <tr>\n",
       "      <th>75%</th>\n",
       "      <td>2010.750000</td>\n",
       "      <td>945376.250000</td>\n",
       "      <td>8.412316e+06</td>\n",
       "      <td>1.050228e+06</td>\n",
       "      <td>3.232013e+06</td>\n",
       "      <td>3.904660e+06</td>\n",
       "      <td>8.037749e+06</td>\n",
       "      <td>3.902565e+06</td>\n",
       "      <td>2.858103e+06</td>\n",
       "      <td>401347.000000</td>\n",
       "      <td>...</td>\n",
       "      <td>83078.500000</td>\n",
       "      <td>81364.500000</td>\n",
       "      <td>79757.000000</td>\n",
       "      <td>667057.500000</td>\n",
       "      <td>320719.250000</td>\n",
       "      <td>1.000381e+06</td>\n",
       "      <td>233.970429</td>\n",
       "      <td>278.820849</td>\n",
       "      <td>212.094327</td>\n",
       "      <td>267.648482</td>\n",
       "    </tr>\n",
       "    <tr>\n",
       "      <th>max</th>\n",
       "      <td>2017.000000</td>\n",
       "      <td>987332.000000</td>\n",
       "      <td>9.272152e+06</td>\n",
       "      <td>1.579806e+06</td>\n",
       "      <td>4.458836e+06</td>\n",
       "      <td>4.128871e+06</td>\n",
       "      <td>9.581201e+06</td>\n",
       "      <td>4.296503e+06</td>\n",
       "      <td>2.983729e+06</td>\n",
       "      <td>490641.000000</td>\n",
       "      <td>...</td>\n",
       "      <td>86594.000000</td>\n",
       "      <td>84596.000000</td>\n",
       "      <td>84913.000000</td>\n",
       "      <td>687823.000000</td>\n",
       "      <td>354901.000000</td>\n",
       "      <td>1.029470e+06</td>\n",
       "      <td>240.304911</td>\n",
       "      <td>282.919489</td>\n",
       "      <td>215.465952</td>\n",
       "      <td>270.966172</td>\n",
       "    </tr>\n",
       "  </tbody>\n",
       "</table>\n",
       "<p>8 rows × 23 columns</p>\n",
       "</div>"
      ],
      "text/plain": [
       "              YEAR         ENROLL  TOTAL_REVENUE  FEDERAL_REVENUE  \\\n",
       "count    26.000000      24.000000   2.600000e+01     2.500000e+01   \n",
       "mean   2004.500000  874322.083333   6.651503e+06     7.865178e+05   \n",
       "std       7.648529   93085.522355   2.025445e+06     3.552691e+05   \n",
       "min    1992.000000  676297.000000   3.258079e+06     2.978880e+05   \n",
       "25%    1998.250000  809200.500000   4.777928e+06     4.703980e+05   \n",
       "50%    2004.500000  907901.000000   7.334016e+06     8.354640e+05   \n",
       "75%    2010.750000  945376.250000   8.412316e+06     1.050228e+06   \n",
       "max    2017.000000  987332.000000   9.272152e+06     1.579806e+06   \n",
       "\n",
       "       STATE_REVENUE  LOCAL_REVENUE  TOTAL_EXPENDITURE  \\\n",
       "count   2.500000e+01   2.500000e+01       2.600000e+01   \n",
       "mean    2.771293e+06   3.019631e+06       6.604990e+06   \n",
       "std     8.565975e+05   9.160754e+05       1.954180e+06   \n",
       "min     1.369815e+06   1.590376e+06       3.401580e+06   \n",
       "25%     2.000801e+06   2.204097e+06       4.812691e+06   \n",
       "50%     2.912629e+06   3.101450e+06       6.934003e+06   \n",
       "75%     3.232013e+06   3.904660e+06       8.037749e+06   \n",
       "max     4.458836e+06   4.128871e+06       9.581201e+06   \n",
       "\n",
       "       INSTRUCTION_EXPENDITURE  SUPPORT_SERVICES_EXPENDITURE  \\\n",
       "count             2.500000e+01                  2.500000e+01   \n",
       "mean              3.024480e+06                  2.073115e+06   \n",
       "std               9.860688e+05                  7.505329e+05   \n",
       "min               1.435908e+06                  1.000914e+06   \n",
       "25%               2.091741e+06                  1.315931e+06   \n",
       "50%               3.224647e+06                  2.115629e+06   \n",
       "75%               3.902565e+06                  2.858103e+06   \n",
       "max               4.296503e+06                  2.983729e+06   \n",
       "\n",
       "       OTHER_EXPENDITURE         ...             GRADES_4_G    GRADES_8_G  \\\n",
       "count          24.000000         ...              24.000000     24.000000   \n",
       "mean       334409.875000         ...           74519.416667  71993.791667   \n",
       "std         94020.649117         ...            9961.532124  11494.774537   \n",
       "min        164083.000000         ...           55433.000000  49081.000000   \n",
       "25%        268163.500000         ...           67115.500000  63085.750000   \n",
       "50%        341430.500000         ...           76658.500000  77485.500000   \n",
       "75%        401347.000000         ...           83078.500000  81364.500000   \n",
       "max        490641.000000         ...           86594.000000  84596.000000   \n",
       "\n",
       "        GRADES_12_G   GRADES_1_8_G  GRADES_9_12_G  GRADES_ALL_G  \\\n",
       "count     24.000000      24.000000      24.000000  2.400000e+01   \n",
       "mean   63244.500000  596437.500000  274507.500000  8.786317e+05   \n",
       "std    18052.651957   81237.863178   57892.699749  1.412706e+05   \n",
       "min    37410.000000  437127.000000  175210.000000  6.148810e+05   \n",
       "25%    45424.500000  538365.000000  223091.250000  7.665315e+05   \n",
       "50%    69925.000000  620493.000000  307924.000000  9.440270e+05   \n",
       "75%    79757.000000  667057.500000  320719.250000  1.000381e+06   \n",
       "max    84913.000000  687823.000000  354901.000000  1.029470e+06   \n",
       "\n",
       "       AVG_MATH_4_SCORE  AVG_MATH_8_SCORE  AVG_READING_4_SCORE  \\\n",
       "count         26.000000         26.000000            26.000000   \n",
       "mean         227.217688        273.902179           209.258986   \n",
       "std            8.373868          5.593414             3.384581   \n",
       "min          215.253932        265.366278           205.347275   \n",
       "25%          218.245697        269.472656           206.391069   \n",
       "50%          229.578354        273.523155           208.169725   \n",
       "75%          233.970429        278.820849           212.094327   \n",
       "max          240.304911        282.919489           215.465952   \n",
       "\n",
       "       AVG_READING_8_SCORE  \n",
       "count            26.000000  \n",
       "mean            264.253350  \n",
       "std               4.200392  \n",
       "min             254.799747  \n",
       "25%             261.770402  \n",
       "50%             263.740321  \n",
       "75%             267.648482  \n",
       "max             270.966172  \n",
       "\n",
       "[8 rows x 23 columns]"
      ]
     },
     "execution_count": 122,
     "metadata": {},
     "output_type": "execute_result"
    }
   ],
   "source": [
    "df_arizona.describe()"
   ]
  },
  {
   "cell_type": "markdown",
   "metadata": {},
   "source": [
    "Eksik değerler olmadan revenue ve expenditure değişkenlerinin yıllara göre değişim grafiğini görelim."
   ]
  },
  {
   "cell_type": "code",
   "execution_count": 45,
   "metadata": {},
   "outputs": [
    {
     "data": {
      "image/png": "[encoded data removed]",
      "text/plain": [
       "<Figure size 800x200 with 2 Axes>"
      ]
     },
     "metadata": {},
     "output_type": "display_data"
    }
   ],
   "source": [
    "plt.figure(figsize = (8,2))\n",
    "plt.subplot(1,2,1)\n",
    "plt.plot(df_arizona['YEAR'], df_arizona['TOTAL_REVENUE'])\n",
    "plt.title('Total revenue for Arizona')\n",
    "\n",
    "plt.subplot(1,2,2)\n",
    "plt.plot(df_arizona['YEAR'], df_arizona['TOTAL_EXPENDITURE'])\n",
    "plt.title('Total expenditure for Arizona')\n",
    "plt.show()"
   ]
  },
  {
   "cell_type": "markdown",
   "metadata": {},
   "source": [
    "Yukarıdaki grafiklerden şunları çıkarabiliriz: Gelir ve giderler arasında doğrusal bir ilişki vardır. Gelir arttıkça harcama artar. Gelir azaldıkça harcama azalır. Gelir ve giderlerin artması ve azalmasında bazı sebepler etkilidir. Mesela buradaki zirveden sonraki düşüş büyük oranda 2008 küresel finans kriziyle ilgilidir."
   ]
  },
  {
   "cell_type": "markdown",
   "metadata": {},
   "source": [
    "2. Fazla eksik değer olmadığı için bu grafiklerin önceki grafiklerle neredeyse hiçbir farkı yok. Şimdi \n",
    "bu değişkenlerin maksimum ve minimum noktalarına ve yıllarına bakalım."
   ]
  },
  {
   "cell_type": "code",
   "execution_count": 82,
   "metadata": {},
   "outputs": [],
   "source": [
    "year_max_exp = df_arizona[df_arizona['TOTAL_EXPENDITURE'] == df_arizona['TOTAL_EXPENDITURE'].max()]['YEAR']\n",
    "year_max_rev = df_arizona[df_arizona['TOTAL_REVENUE'] == df_arizona['TOTAL_REVENUE'].max()]['YEAR']\n",
    "year_min_exp = df_arizona[df_arizona['TOTAL_EXPENDITURE'] == df_arizona['TOTAL_EXPENDITURE'].min()]['YEAR']\n",
    "year_min_rev = df_arizona[df_arizona['TOTAL_REVENUE'] == df_arizona['TOTAL_REVENUE'].min()]['YEAR']\n"
   ]
  },
  {
   "cell_type": "code",
   "execution_count": 85,
   "metadata": {},
   "outputs": [
    {
     "name": "stdout",
     "output_type": "stream",
     "text": [
      "Max revenue for Arizona = 9581201.0 $ Year: 818    2008\n",
      "Name: YEAR, dtype: int64\n",
      "Min revenue for Arizona = 3258079.0 $ Year: 2    1992\n",
      "Name: YEAR, dtype: int64\n",
      "Max expenditure for Arizona = 9581201.0 $ Year 818    2008\n",
      "Name: YEAR, dtype: int64\n",
      "Min expenditure for Arizona = 3401580.0 $ Year: 2    1992\n",
      "Name: YEAR, dtype: int64\n"
     ]
    }
   ],
   "source": [
    "print('Max revenue for Arizona =',df_arizona['TOTAL_EXPENDITURE'].max(),'$', 'Year:', year_max_rev)\n",
    "print('Min revenue for Arizona =',df_arizona['TOTAL_REVENUE'].min(),'$', 'Year:', year_min_rev )\n",
    "print('Max expenditure for Arizona =', df_arizona['TOTAL_EXPENDITURE'].max(), '$', 'Year', year_max_exp)\n",
    "print('Min expenditure for Arizona =',df_arizona['TOTAL_EXPENDITURE'].min(), '$', 'Year:', year_min_exp)"
   ]
  },
  {
   "cell_type": "markdown",
   "metadata": {},
   "source": [
    "3. Arizona'daki öğrencilerin hangi derslerde başarılı olduğuna bakalım."
   ]
  },
  {
   "cell_type": "markdown",
   "metadata": {},
   "source": [
    "Dersleri ayrı ayrı incelediğimizde ders ortalama puan değişkeninin zamanla yükseldiğini görüyoruz. Dolayısıyla burada da enterpolasyon doğru seçim olacaktır. "
   ]
  },
  {
   "cell_type": "code",
   "execution_count": 117,
   "metadata": {},
   "outputs": [],
   "source": [
    "df_arizona[['YEAR','AVG_MATH_4_SCORE','AVG_MATH_8_SCORE','AVG_READING_4_SCORE','AVG_READING_8_SCORE']] = df_arizona[['YEAR','AVG_MATH_4_SCORE','AVG_MATH_8_SCORE','AVG_READING_4_SCORE','AVG_READING_8_SCORE']].interpolate()"
   ]
  },
  {
   "cell_type": "code",
   "execution_count": 118,
   "metadata": {},
   "outputs": [
    {
     "data": {
      "text/html": [
       "<div>\n",
       "<style scoped>\n",
       "    .dataframe tbody tr th:only-of-type {\n",
       "        vertical-align: middle;\n",
       "    }\n",
       "\n",
       "    .dataframe tbody tr th {\n",
       "        vertical-align: top;\n",
       "    }\n",
       "\n",
       "    .dataframe thead th {\n",
       "        text-align: right;\n",
       "    }\n",
       "</style>\n",
       "<table border=\"1\" class=\"dataframe\">\n",
       "  <thead>\n",
       "    <tr style=\"text-align: right;\">\n",
       "      <th></th>\n",
       "      <th>YEAR</th>\n",
       "      <th>AVG_MATH_4_SCORE</th>\n",
       "      <th>AVG_MATH_8_SCORE</th>\n",
       "      <th>AVG_READING_4_SCORE</th>\n",
       "      <th>AVG_READING_8_SCORE</th>\n",
       "    </tr>\n",
       "  </thead>\n",
       "  <tbody>\n",
       "    <tr>\n",
       "      <th>2</th>\n",
       "      <td>1992</td>\n",
       "      <td>215.253932</td>\n",
       "      <td>265.366278</td>\n",
       "      <td>206.212716</td>\n",
       "      <td>262.169895</td>\n",
       "    </tr>\n",
       "    <tr>\n",
       "      <th>53</th>\n",
       "      <td>1993</td>\n",
       "      <td>215.834434</td>\n",
       "      <td>265.993417</td>\n",
       "      <td>206.291984</td>\n",
       "      <td>262.448330</td>\n",
       "    </tr>\n",
       "    <tr>\n",
       "      <th>104</th>\n",
       "      <td>1994</td>\n",
       "      <td>216.414936</td>\n",
       "      <td>266.620556</td>\n",
       "      <td>206.371252</td>\n",
       "      <td>262.726766</td>\n",
       "    </tr>\n",
       "    <tr>\n",
       "      <th>155</th>\n",
       "      <td>1995</td>\n",
       "      <td>216.995438</td>\n",
       "      <td>267.247695</td>\n",
       "      <td>206.450520</td>\n",
       "      <td>263.005202</td>\n",
       "    </tr>\n",
       "    <tr>\n",
       "      <th>206</th>\n",
       "      <td>1996</td>\n",
       "      <td>217.575940</td>\n",
       "      <td>267.874834</td>\n",
       "      <td>206.529788</td>\n",
       "      <td>263.283638</td>\n",
       "    </tr>\n",
       "  </tbody>\n",
       "</table>\n",
       "</div>"
      ],
      "text/plain": [
       "     YEAR  AVG_MATH_4_SCORE  AVG_MATH_8_SCORE  AVG_READING_4_SCORE  \\\n",
       "2    1992        215.253932        265.366278           206.212716   \n",
       "53   1993        215.834434        265.993417           206.291984   \n",
       "104  1994        216.414936        266.620556           206.371252   \n",
       "155  1995        216.995438        267.247695           206.450520   \n",
       "206  1996        217.575940        267.874834           206.529788   \n",
       "\n",
       "     AVG_READING_8_SCORE  \n",
       "2             262.169895  \n",
       "53            262.448330  \n",
       "104           262.726766  \n",
       "155           263.005202  \n",
       "206           263.283638  "
      ]
     },
     "execution_count": 118,
     "metadata": {},
     "output_type": "execute_result"
    }
   ],
   "source": [
    "df_arizona[['YEAR','AVG_MATH_4_SCORE','AVG_MATH_8_SCORE','AVG_READING_4_SCORE','AVG_READING_8_SCORE']].head()"
   ]
  },
  {
   "cell_type": "markdown",
   "metadata": {},
   "source": [
    "Eyaletteki okuma ve matematik dersleri ortalamalarına bakalım."
   ]
  },
  {
   "cell_type": "code",
   "execution_count": 121,
   "metadata": {},
   "outputs": [
    {
     "data": {
      "text/plain": [
       "AVG_MATH_4_SCORE       227.217688\n",
       "AVG_MATH_8_SCORE       273.902179\n",
       "AVG_READING_4_SCORE    209.258986\n",
       "AVG_READING_8_SCORE    264.253350\n",
       "dtype: float64"
      ]
     },
     "execution_count": 121,
     "metadata": {},
     "output_type": "execute_result"
    }
   ],
   "source": [
    "df_arizona[['AVG_MATH_4_SCORE','AVG_MATH_8_SCORE','AVG_READING_4_SCORE','AVG_READING_8_SCORE']].mean().head()"
   ]
  },
  {
   "cell_type": "markdown",
   "metadata": {},
   "source": [
    "4. Matematik ve okuma notlarının dağılımına bakalım."
   ]
  },
  {
   "cell_type": "code",
   "execution_count": 136,
   "metadata": {},
   "outputs": [
    {
     "data": {
      "image/png": "[encoded data removed]",
      "text/plain": [
       "<Figure size 800x300 with 2 Axes>"
      ]
     },
     "metadata": {},
     "output_type": "display_data"
    }
   ],
   "source": [
    "plt.figure(figsize = (8,3))\n",
    "plt.subplot(1,2,1)\n",
    "plt.hist(df_arizona['AVG_MATH_8_SCORE'])\n",
    "plt.title('Average math scores')\n",
    "\n",
    "plt.subplot(1,2,2)\n",
    "plt.hist(df_arizona['AVG_READING_8_SCORE'])\n",
    "plt.title('Average reading scores')\n",
    "plt.show()"
   ]
  },
  {
   "cell_type": "markdown",
   "metadata": {},
   "source": [
    "Average Reading scores 8 değişkeninin normal dağılımına yakınlığına bakalım."
   ]
  },
  {
   "cell_type": "code",
   "execution_count": 179,
   "metadata": {},
   "outputs": [],
   "source": [
    "mean_reading = df_arizona['AVG_READING_8_SCORE']\n",
    "norm_1 = np.random.normal(mean_reading, 1, df_arizona['AVG_READING_8_SCORE'].shape[0])\n",
    "\n",
    "mean_math = df_arizona['AVG_MATH_8_SCORE']\n",
    "norm_2 = np.random.normal(mean_math, 1, df_arizona['AVG_MATH_8_SCORE'].shape[0])\n"
   ]
  },
  {
   "cell_type": "code",
   "execution_count": 185,
   "metadata": {},
   "outputs": [
    {
     "data": {
      "image/png": "[encoded data removed]",
      "text/plain": [
       "<Figure size 1200x400 with 2 Axes>"
      ]
     },
     "metadata": {},
     "output_type": "display_data"
    }
   ],
   "source": [
    "plt.figure(figsize = (12,4))\n",
    "plt.subplot(1,2,1)\n",
    "plt.plot(norm_1, df_arizona['AVG_READING_8_SCORE'], \"o\") \n",
    "plt.ylabel('Normal Dağılım') \n",
    "plt.xlabel('Okuma Dersi Dağılımı')\n",
    "\n",
    "plt.subplot(1,2,2)\n",
    "plt.plot(norm_2, df_arizona['AVG_MATH_8_SCORE'], \"o\") \n",
    "plt.ylabel('Normal Dağılım') \n",
    "plt.xlabel('Matematik Dersi Dağılımı')\n",
    "plt.show()"
   ]
  },
  {
   "cell_type": "markdown",
   "metadata": {},
   "source": [
    "5. AVG_READING_8_SCORE ve AVG_MATH_8_SCORE değişkenindenki eksik değerleri medyan ile tamamlayalım."
   ]
  },
  {
   "cell_type": "code",
   "execution_count": 200,
   "metadata": {},
   "outputs": [],
   "source": [
    "median_filled_reading = df[df['STATE'] == 'ARIZONA']['AVG_READING_8_SCORE'].fillna(df[df['STATE'] == 'ARIZONA']['AVG_READING_8_SCORE'].median())\n",
    "median_filled_math = df[df['STATE'] == 'ARIZONA']['AVG_MATH_8_SCORE'].fillna(df[df['STATE'] == 'ARIZONA']['AVG_MATH_8_SCORE'].median())"
   ]
  },
  {
   "cell_type": "markdown",
   "metadata": {},
   "source": [
    "Önceki dağılımla karşılaştırma yapalım"
   ]
  },
  {
   "cell_type": "code",
   "execution_count": 205,
   "metadata": {},
   "outputs": [
    {
     "data": {
      "image/png": "[encoded data removed]",
      "text/plain": [
       "<Figure size 800x300 with 2 Axes>"
      ]
     },
     "metadata": {},
     "output_type": "display_data"
    }
   ],
   "source": [
    "plt.figure(figsize = (8,3))\n",
    "plt.subplot(1,2,1)\n",
    "plt.hist(df_arizona['AVG_READING_8_SCORE'])\n",
    "plt.title('Interpolated Reading Scores')\n",
    "\n",
    "plt.subplot(1,2,2)\n",
    "plt.hist(median_filled_reading)\n",
    "plt.title('Median Filled Reading Scores')\n",
    "plt.show()"
   ]
  },
  {
   "cell_type": "markdown",
   "metadata": {},
   "source": [
    "Yukarıdaki histogramlardan anlaşıldığı üzere interpolasyon daha uygun. Normal dağılıma daha yakın."
   ]
  }
 ],
 "metadata": {
  "kernelspec": {
   "display_name": "Python 3",
   "language": "python",
   "name": "python3"
  },
  "language_info": {
   "codemirror_mode": {
    "name": "ipython",
    "version": 3
   },
   "file_extension": ".py",
   "mimetype": "text/x-python",
   "name": "python",
   "nbconvert_exporter": "python",
   "pygments_lexer": "ipython3",
   "version": "3.7.2"
  }
 },
 "nbformat": 4,
 "nbformat_minor": 2
}
