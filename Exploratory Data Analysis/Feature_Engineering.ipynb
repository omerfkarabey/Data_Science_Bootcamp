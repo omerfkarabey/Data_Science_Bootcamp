{
 "cells": [
  {
   "cell_type": "code",
   "execution_count": 1,
   "metadata": {},
   "outputs": [],
   "source": [
    "import matplotlib.pyplot as plt\n",
    "import seaborn as sns\n",
    "import numpy as np\n",
    "import pandas as pd\n",
    "import scipy.stats as stats\n",
    "from scipy.stats.mstats import winsorize\n",
    "from sqlalchemy import create_engine\n",
    "import warnings\n",
    "\n",
    "warnings.filterwarnings('ignore')\n",
    "sns.set(style=\"whitegrid\")\n",
    "baslik_font = {'family': 'arial', 'color': 'darkred','weight': 'bold','size': 13 }\n",
    "eksen_font  = {'family': 'arial', 'color': 'darkblue','weight': 'bold','size': 10 }"
   ]
  },
  {
   "cell_type": "code",
   "execution_count": 2,
   "metadata": {},
   "outputs": [
    {
     "data": {
      "text/html": [
       "<div>\n",
       "<style scoped>\n",
       "    .dataframe tbody tr th:only-of-type {\n",
       "        vertical-align: middle;\n",
       "    }\n",
       "\n",
       "    .dataframe tbody tr th {\n",
       "        vertical-align: top;\n",
       "    }\n",
       "\n",
       "    .dataframe thead th {\n",
       "        text-align: right;\n",
       "    }\n",
       "</style>\n",
       "<table border=\"1\" class=\"dataframe\">\n",
       "  <thead>\n",
       "    <tr style=\"text-align: right;\">\n",
       "      <th></th>\n",
       "      <th>cinsiyet</th>\n",
       "      <th>koken</th>\n",
       "      <th>aile_egt_seviyesi</th>\n",
       "      <th>ogle_yemegi</th>\n",
       "      <th>hazirlik_kursu</th>\n",
       "      <th>matematik_notu</th>\n",
       "      <th>okuma_notu</th>\n",
       "      <th>yazma_notu</th>\n",
       "    </tr>\n",
       "  </thead>\n",
       "  <tbody>\n",
       "    <tr>\n",
       "      <th>0</th>\n",
       "      <td>female</td>\n",
       "      <td>group B</td>\n",
       "      <td>bachelor's degree</td>\n",
       "      <td>standard</td>\n",
       "      <td>none</td>\n",
       "      <td>72</td>\n",
       "      <td>72</td>\n",
       "      <td>74</td>\n",
       "    </tr>\n",
       "    <tr>\n",
       "      <th>1</th>\n",
       "      <td>female</td>\n",
       "      <td>group C</td>\n",
       "      <td>some college</td>\n",
       "      <td>standard</td>\n",
       "      <td>completed</td>\n",
       "      <td>69</td>\n",
       "      <td>90</td>\n",
       "      <td>88</td>\n",
       "    </tr>\n",
       "    <tr>\n",
       "      <th>2</th>\n",
       "      <td>female</td>\n",
       "      <td>group B</td>\n",
       "      <td>master's degree</td>\n",
       "      <td>standard</td>\n",
       "      <td>none</td>\n",
       "      <td>90</td>\n",
       "      <td>95</td>\n",
       "      <td>93</td>\n",
       "    </tr>\n",
       "    <tr>\n",
       "      <th>3</th>\n",
       "      <td>male</td>\n",
       "      <td>group A</td>\n",
       "      <td>associate's degree</td>\n",
       "      <td>free/reduced</td>\n",
       "      <td>none</td>\n",
       "      <td>47</td>\n",
       "      <td>57</td>\n",
       "      <td>44</td>\n",
       "    </tr>\n",
       "    <tr>\n",
       "      <th>4</th>\n",
       "      <td>male</td>\n",
       "      <td>group C</td>\n",
       "      <td>some college</td>\n",
       "      <td>standard</td>\n",
       "      <td>none</td>\n",
       "      <td>76</td>\n",
       "      <td>78</td>\n",
       "      <td>75</td>\n",
       "    </tr>\n",
       "  </tbody>\n",
       "</table>\n",
       "</div>"
      ],
      "text/plain": [
       "  cinsiyet    koken   aile_egt_seviyesi   ogle_yemegi hazirlik_kursu  \\\n",
       "0   female  group B   bachelor's degree      standard           none   \n",
       "1   female  group C        some college      standard      completed   \n",
       "2   female  group B     master's degree      standard           none   \n",
       "3     male  group A  associate's degree  free/reduced           none   \n",
       "4     male  group C        some college      standard           none   \n",
       "\n",
       "   matematik_notu  okuma_notu  yazma_notu  \n",
       "0              72          72          74  \n",
       "1              69          90          88  \n",
       "2              90          95          93  \n",
       "3              47          57          44  \n",
       "4              76          78          75  "
      ]
     },
     "execution_count": 2,
     "metadata": {},
     "output_type": "execute_result"
    }
   ],
   "source": [
    "df = pd.read_csv('StudentsPerformance.csv')\n",
    "df.columns = ['cinsiyet', 'koken', 'aile_egt_seviyesi', 'ogle_yemegi', \n",
    "                              'hazirlik_kursu', 'matematik_notu', 'okuma_notu', 'yazma_notu']\n",
    "df.head()"
   ]
  },
  {
   "cell_type": "markdown",
   "metadata": {},
   "source": [
    "### 1. Sınav sonuçları normal dağılımlı mıdır? "
   ]
  },
  {
   "cell_type": "markdown",
   "metadata": {},
   "source": [
    "Önce sınav sonuçlarıyla ilgili genel bir bakışa sahip olmak için histogramlarına bakalım."
   ]
  },
  {
   "cell_type": "code",
   "execution_count": 3,
   "metadata": {},
   "outputs": [
    {
     "data": {
      "image/png": "[encoded data removed]",
      "text/plain": [
       "<Figure size 864x288 with 3 Axes>"
      ]
     },
     "metadata": {
      "needs_background": "light"
     },
     "output_type": "display_data"
    }
   ],
   "source": [
    "plt.figure(figsize = (12,4))\n",
    "plt.subplot(1,3,1)\n",
    "plt.hist(df['matematik_notu'])\n",
    "plt.title('Matematik', fontdict = baslik_font)\n",
    "plt.subplot(1,3,2)\n",
    "plt.hist(df['okuma_notu'])\n",
    "plt.title('Okuma', fontdict = baslik_font)\n",
    "plt.subplot(1,3,3)\n",
    "plt.hist(df['yazma_notu'])\n",
    "plt.title('Yazma', fontdict = baslik_font)\n",
    "plt.show()"
   ]
  },
  {
   "cell_type": "markdown",
   "metadata": {},
   "source": [
    "Hiştogramlarda notların normal dağılıma yakın olduğunu görüyoruz. Daha iyi test etmek için Jarque-Bera ve Normaltest'leri uygulayalım."
   ]
  },
  {
   "cell_type": "code",
   "execution_count": 4,
   "metadata": {},
   "outputs": [
    {
     "data": {
      "text/html": [
       "<div>\n",
       "<style scoped>\n",
       "    .dataframe tbody tr th:only-of-type {\n",
       "        vertical-align: middle;\n",
       "    }\n",
       "\n",
       "    .dataframe tbody tr th {\n",
       "        vertical-align: top;\n",
       "    }\n",
       "\n",
       "    .dataframe thead th {\n",
       "        text-align: right;\n",
       "    }\n",
       "</style>\n",
       "<table border=\"1\" class=\"dataframe\">\n",
       "  <thead>\n",
       "    <tr style=\"text-align: right;\">\n",
       "      <th></th>\n",
       "      <th>dersler</th>\n",
       "      <th>JB_stats</th>\n",
       "      <th>JB_pvalue</th>\n",
       "      <th>normal_stats</th>\n",
       "      <th>normal_pvalue</th>\n",
       "    </tr>\n",
       "  </thead>\n",
       "  <tbody>\n",
       "    <tr>\n",
       "      <th>0</th>\n",
       "      <td>matematik_notu</td>\n",
       "      <td>15.91226</td>\n",
       "      <td>0.00035</td>\n",
       "      <td>15.40896</td>\n",
       "      <td>0.00045</td>\n",
       "    </tr>\n",
       "    <tr>\n",
       "      <th>1</th>\n",
       "      <td>okuma_notu</td>\n",
       "      <td>11.38330</td>\n",
       "      <td>0.00337</td>\n",
       "      <td>11.11741</td>\n",
       "      <td>0.00385</td>\n",
       "    </tr>\n",
       "    <tr>\n",
       "      <th>2</th>\n",
       "      <td>yazma_notu</td>\n",
       "      <td>13.98509</td>\n",
       "      <td>0.00092</td>\n",
       "      <td>13.60645</td>\n",
       "      <td>0.00111</td>\n",
       "    </tr>\n",
       "  </tbody>\n",
       "</table>\n",
       "</div>"
      ],
      "text/plain": [
       "          dersler  JB_stats  JB_pvalue  normal_stats  normal_pvalue\n",
       "0  matematik_notu  15.91226    0.00035      15.40896        0.00045\n",
       "1      okuma_notu  11.38330    0.00337      11.11741        0.00385\n",
       "2      yazma_notu  13.98509    0.00092      13.60645        0.00111"
      ]
     },
     "execution_count": 4,
     "metadata": {},
     "output_type": "execute_result"
    }
   ],
   "source": [
    "from scipy.stats import jarque_bera\n",
    "from scipy.stats import normaltest\n",
    "\n",
    "# Virgülden sonraki basamakları ayarlayalım.\n",
    "pd.options.display.float_format = '{:.5f}'.format\n",
    "\n",
    "dersler = ['matematik_notu', 'okuma_notu', 'yazma_notu']\n",
    "dagilim_testi = pd.DataFrame(columns = ['dersler', 'JB_stats','JB_pvalue', 'normal_stats', 'normal_pvalue'])\n",
    "\n",
    "for ders in dersler:\n",
    "    JB_stats = jarque_bera(df[ders])\n",
    "    normal_stats = normaltest(df[ders])\n",
    "    dagilim_testi = dagilim_testi.append({'dersler': ders, 'JB_stats': JB_stats[0], 'JB_pvalue': JB_stats[1],\n",
    "                                         'normal_stats': normal_stats[0], 'normal_pvalue': normal_stats[1]}, \n",
    "                                        ignore_index = True)\n",
    "dagilim_testi"
   ]
  },
  {
   "cell_type": "markdown",
   "metadata": {},
   "source": [
    "Yukarıda görüldüğü üzere küçük normal pvalue'lara ulaştık. Bu bize değişkenlerin o kadar da normal dağılmadığını gösterir.\n",
    "Burada değişkenler üzerinde log dönüşümleri yaparak dağılımı tekrar kontrol edelim."
   ]
  },
  {
   "cell_type": "code",
   "execution_count": 5,
   "metadata": {},
   "outputs": [
    {
     "data": {
      "text/html": [
       "<div>\n",
       "<style scoped>\n",
       "    .dataframe tbody tr th:only-of-type {\n",
       "        vertical-align: middle;\n",
       "    }\n",
       "\n",
       "    .dataframe tbody tr th {\n",
       "        vertical-align: top;\n",
       "    }\n",
       "\n",
       "    .dataframe thead th {\n",
       "        text-align: right;\n",
       "    }\n",
       "</style>\n",
       "<table border=\"1\" class=\"dataframe\">\n",
       "  <thead>\n",
       "    <tr style=\"text-align: right;\">\n",
       "      <th></th>\n",
       "      <th>cinsiyet</th>\n",
       "      <th>koken</th>\n",
       "      <th>aile_egt_seviyesi</th>\n",
       "      <th>ogle_yemegi</th>\n",
       "      <th>hazirlik_kursu</th>\n",
       "      <th>matematik_notu</th>\n",
       "      <th>okuma_notu</th>\n",
       "      <th>yazma_notu</th>\n",
       "    </tr>\n",
       "  </thead>\n",
       "  <tbody>\n",
       "    <tr>\n",
       "      <th>0</th>\n",
       "      <td>female</td>\n",
       "      <td>group B</td>\n",
       "      <td>bachelor's degree</td>\n",
       "      <td>standard</td>\n",
       "      <td>none</td>\n",
       "      <td>72</td>\n",
       "      <td>72</td>\n",
       "      <td>74</td>\n",
       "    </tr>\n",
       "    <tr>\n",
       "      <th>1</th>\n",
       "      <td>female</td>\n",
       "      <td>group C</td>\n",
       "      <td>some college</td>\n",
       "      <td>standard</td>\n",
       "      <td>completed</td>\n",
       "      <td>69</td>\n",
       "      <td>90</td>\n",
       "      <td>88</td>\n",
       "    </tr>\n",
       "    <tr>\n",
       "      <th>2</th>\n",
       "      <td>female</td>\n",
       "      <td>group B</td>\n",
       "      <td>master's degree</td>\n",
       "      <td>standard</td>\n",
       "      <td>none</td>\n",
       "      <td>90</td>\n",
       "      <td>95</td>\n",
       "      <td>93</td>\n",
       "    </tr>\n",
       "    <tr>\n",
       "      <th>3</th>\n",
       "      <td>male</td>\n",
       "      <td>group A</td>\n",
       "      <td>associate's degree</td>\n",
       "      <td>free/reduced</td>\n",
       "      <td>none</td>\n",
       "      <td>47</td>\n",
       "      <td>57</td>\n",
       "      <td>44</td>\n",
       "    </tr>\n",
       "    <tr>\n",
       "      <th>4</th>\n",
       "      <td>male</td>\n",
       "      <td>group C</td>\n",
       "      <td>some college</td>\n",
       "      <td>standard</td>\n",
       "      <td>none</td>\n",
       "      <td>76</td>\n",
       "      <td>78</td>\n",
       "      <td>75</td>\n",
       "    </tr>\n",
       "  </tbody>\n",
       "</table>\n",
       "</div>"
      ],
      "text/plain": [
       "  cinsiyet    koken   aile_egt_seviyesi   ogle_yemegi hazirlik_kursu  \\\n",
       "0   female  group B   bachelor's degree      standard           none   \n",
       "1   female  group C        some college      standard      completed   \n",
       "2   female  group B     master's degree      standard           none   \n",
       "3     male  group A  associate's degree  free/reduced           none   \n",
       "4     male  group C        some college      standard           none   \n",
       "\n",
       "   matematik_notu  okuma_notu  yazma_notu  \n",
       "0              72          72          74  \n",
       "1              69          90          88  \n",
       "2              90          95          93  \n",
       "3              47          57          44  \n",
       "4              76          78          75  "
      ]
     },
     "execution_count": 5,
     "metadata": {},
     "output_type": "execute_result"
    }
   ],
   "source": [
    "#?? log dönüşümü yaptıktan sonra\n",
    "df.head()"
   ]
  },
  {
   "cell_type": "markdown",
   "metadata": {},
   "source": [
    "Normalize metodunu kullanarak değişkenleri normalleştirelim."
   ]
  },
  {
   "cell_type": "code",
   "execution_count": 6,
   "metadata": {},
   "outputs": [
    {
     "name": "stdout",
     "output_type": "stream",
     "text": [
      "Karşılaştırmalı min değerler: \n",
      " -------\n",
      "matematik_notu      0.00000\n",
      "normalized_mat      0.00000\n",
      "okuma_notu         17.00000\n",
      "normalized_okuma    0.00760\n",
      "yazma_notu         10.00000\n",
      "normalized_yazma    0.00454\n",
      "dtype: float64\n",
      "Karşılaştırmalı maks değerler: \n",
      " -------\n",
      "matematik_notu     100.00000\n",
      "normalized_mat       0.04664\n",
      "okuma_notu         100.00000\n",
      "normalized_okuma     0.04473\n",
      "yazma_notu         100.00000\n",
      "normalized_yazma     0.04535\n",
      "dtype: float64\n"
     ]
    }
   ],
   "source": [
    "from sklearn.preprocessing import normalize\n",
    "\n",
    "df['normalized_mat'] = normalize(np.array(df['matematik_notu']).reshape(1,-1)).reshape(-1,1)\n",
    "df['normalized_okuma'] = normalize(np.array(df['okuma_notu']).reshape(1,-1)).reshape(-1,1)\n",
    "df['normalized_yazma'] = normalize(np.array(df['yazma_notu']).reshape(1,-1)).reshape(-1,1)\n",
    "ozellikler = ['matematik_notu', 'normalized_mat', 'okuma_notu', 'normalized_okuma',\n",
    "             'yazma_notu', 'normalized_yazma']\n",
    "\n",
    "\n",
    "print('Karşılaştırmalı min değerler: \\n -------')\n",
    "print(df[ozellikler].min())\n",
    "print('Karşılaştırmalı maks değerler: \\n -------')\n",
    "print(df[ozellikler].max())"
   ]
  },
  {
   "cell_type": "code",
   "execution_count": 7,
   "metadata": {},
   "outputs": [
    {
     "data": {
      "text/plain": [
       "NormaltestResult(statistic=15.408960513931847, pvalue=0.00045080293869937283)"
      ]
     },
     "execution_count": 7,
     "metadata": {},
     "output_type": "execute_result"
    }
   ],
   "source": [
    "normaltest(df['normalized_mat'])"
   ]
  },
  {
   "cell_type": "code",
   "execution_count": 8,
   "metadata": {},
   "outputs": [
    {
     "data": {
      "text/html": [
       "<div>\n",
       "<style scoped>\n",
       "    .dataframe tbody tr th:only-of-type {\n",
       "        vertical-align: middle;\n",
       "    }\n",
       "\n",
       "    .dataframe tbody tr th {\n",
       "        vertical-align: top;\n",
       "    }\n",
       "\n",
       "    .dataframe thead th {\n",
       "        text-align: right;\n",
       "    }\n",
       "</style>\n",
       "<table border=\"1\" class=\"dataframe\">\n",
       "  <thead>\n",
       "    <tr style=\"text-align: right;\">\n",
       "      <th></th>\n",
       "      <th>matematik_notu</th>\n",
       "      <th>normalized_mat</th>\n",
       "      <th>okuma_notu</th>\n",
       "      <th>normalized_okuma</th>\n",
       "      <th>yazma_notu</th>\n",
       "      <th>normalized_yazma</th>\n",
       "    </tr>\n",
       "  </thead>\n",
       "  <tbody>\n",
       "    <tr>\n",
       "      <th>0</th>\n",
       "      <td>72</td>\n",
       "      <td>0.03358</td>\n",
       "      <td>72</td>\n",
       "      <td>0.03221</td>\n",
       "      <td>74</td>\n",
       "      <td>0.03356</td>\n",
       "    </tr>\n",
       "    <tr>\n",
       "      <th>1</th>\n",
       "      <td>69</td>\n",
       "      <td>0.03218</td>\n",
       "      <td>90</td>\n",
       "      <td>0.04026</td>\n",
       "      <td>88</td>\n",
       "      <td>0.03991</td>\n",
       "    </tr>\n",
       "    <tr>\n",
       "      <th>2</th>\n",
       "      <td>90</td>\n",
       "      <td>0.04197</td>\n",
       "      <td>95</td>\n",
       "      <td>0.04250</td>\n",
       "      <td>93</td>\n",
       "      <td>0.04218</td>\n",
       "    </tr>\n",
       "    <tr>\n",
       "      <th>3</th>\n",
       "      <td>47</td>\n",
       "      <td>0.02192</td>\n",
       "      <td>57</td>\n",
       "      <td>0.02550</td>\n",
       "      <td>44</td>\n",
       "      <td>0.01995</td>\n",
       "    </tr>\n",
       "    <tr>\n",
       "      <th>4</th>\n",
       "      <td>76</td>\n",
       "      <td>0.03545</td>\n",
       "      <td>78</td>\n",
       "      <td>0.03489</td>\n",
       "      <td>75</td>\n",
       "      <td>0.03401</td>\n",
       "    </tr>\n",
       "  </tbody>\n",
       "</table>\n",
       "</div>"
      ],
      "text/plain": [
       "   matematik_notu  normalized_mat  okuma_notu  normalized_okuma  yazma_notu  \\\n",
       "0              72         0.03358          72           0.03221          74   \n",
       "1              69         0.03218          90           0.04026          88   \n",
       "2              90         0.04197          95           0.04250          93   \n",
       "3              47         0.02192          57           0.02550          44   \n",
       "4              76         0.03545          78           0.03489          75   \n",
       "\n",
       "   normalized_yazma  \n",
       "0           0.03356  \n",
       "1           0.03991  \n",
       "2           0.04218  \n",
       "3           0.01995  \n",
       "4           0.03401  "
      ]
     },
     "execution_count": 8,
     "metadata": {},
     "output_type": "execute_result"
    }
   ],
   "source": [
    "df[ozellikler].head()"
   ]
  },
  {
   "cell_type": "markdown",
   "metadata": {},
   "source": [
    "Orjinal değişkenleri normalize edilmiş halleriyle kıyasladığımız scatter grafikleri çizelim."
   ]
  },
  {
   "cell_type": "code",
   "execution_count": 9,
   "metadata": {},
   "outputs": [
    {
     "data": {
      "image/png": "[encoded data removed]",
      "text/plain": [
       "<Figure size 1296x360 with 3 Axes>"
      ]
     },
     "metadata": {
      "needs_background": "light"
     },
     "output_type": "display_data"
    }
   ],
   "source": [
    "plt.figure(figsize=(18,5))\n",
    "for i in range(3):\n",
    "    plt.subplot(1,3,i+1)\n",
    "    plt.scatter(df[ozellikler[2*i]], df[ozellikler[2*i+1]])\n",
    "    plt.title('Orjinal ve Normalize Değerler: \\n {}'.format(ozellikler[2*i]), fontdict = baslik_font)\n",
    "    plt.xlabel('Orjinal Değer', fontdict = eksen_font)\n",
    "    plt.ylabel('Normalize Değer', fontdict = eksen_font)\n",
    "plt.show()"
   ]
  },
  {
   "cell_type": "markdown",
   "metadata": {},
   "source": [
    "### 2. Üç sınav sonucunu tek bir değişkende hedef değişkeni olarak tutalım."
   ]
  },
  {
   "cell_type": "code",
   "execution_count": 10,
   "metadata": {},
   "outputs": [
    {
     "data": {
      "text/plain": [
       "0   72.66667\n",
       "1   82.33333\n",
       "2   92.66667\n",
       "3   49.33333\n",
       "4   76.33333\n",
       "Name: ortalama_not, dtype: float64"
      ]
     },
     "execution_count": 10,
     "metadata": {},
     "output_type": "execute_result"
    }
   ],
   "source": [
    "#pd.options.display.float_format = '{:.2f}'.format\n",
    "df['ortalama_not'] = (df['matematik_notu'] + df['okuma_notu'] + df['yazma_notu'])/3\n",
    "df['ortalama_not'].head()"
   ]
  },
  {
   "cell_type": "code",
   "execution_count": 11,
   "metadata": {},
   "outputs": [
    {
     "data": {
      "image/png": "[encoded data removed]",
      "text/plain": [
       "<Figure size 432x288 with 1 Axes>"
      ]
     },
     "metadata": {
      "needs_background": "light"
     },
     "output_type": "display_data"
    }
   ],
   "source": [
    "plt.hist(df['ortalama_not'])\n",
    "plt.show()"
   ]
  },
  {
   "cell_type": "code",
   "execution_count": 12,
   "metadata": {},
   "outputs": [
    {
     "data": {
      "text/plain": [
       "NormaltestResult(statistic=15.186721327231322, pvalue=0.0005037851534494478)"
      ]
     },
     "execution_count": 12,
     "metadata": {},
     "output_type": "execute_result"
    }
   ],
   "source": [
    "normaltest(df['ortalama_not'])"
   ]
  },
  {
   "cell_type": "code",
   "execution_count": 13,
   "metadata": {},
   "outputs": [
    {
     "data": {
      "text/plain": [
       "0   4.28588\n",
       "1   4.41078\n",
       "2   4.52901\n",
       "3   3.89860\n",
       "4   4.33511\n",
       "Name: logged_ortalama_not, dtype: float64"
      ]
     },
     "execution_count": 13,
     "metadata": {},
     "output_type": "execute_result"
    }
   ],
   "source": [
    "df['logged_ortalama_not'] = np.log(df['ortalama_not'])\n",
    "df['logged_ortalama_not'].head()"
   ]
  },
  {
   "cell_type": "code",
   "execution_count": 14,
   "metadata": {
    "scrolled": true
   },
   "outputs": [
    {
     "data": {
      "image/png": "[encoded data removed]",
      "text/plain": [
       "<Figure size 432x288 with 1 Axes>"
      ]
     },
     "metadata": {
      "needs_background": "light"
     },
     "output_type": "display_data"
    },
    {
     "name": "stdout",
     "output_type": "stream",
     "text": [
      "NormaltestResult(statistic=361.8369432975687, pvalue=2.6798228664902956e-79)\n"
     ]
    }
   ],
   "source": [
    "plt.hist(df['logged_ortalama_not'])\n",
    "plt.show()\n",
    "print(normaltest(df['logged_ortalama_not']))"
   ]
  },
  {
   "cell_type": "markdown",
   "metadata": {},
   "source": [
    "Normal dağılıp dağılmadığını kontrol edelim."
   ]
  },
  {
   "cell_type": "markdown",
   "metadata": {},
   "source": [
    "Log dönüşümü yapılmış ve yapılmamış ortalama not değişkenlerini Q-Q plotlarla inceleyelim."
   ]
  },
  {
   "cell_type": "code",
   "execution_count": 16,
   "metadata": {},
   "outputs": [],
   "source": [
    "# ???? Log dönüşümü yapıldığında normal pvalue neden küçülüyor?"
   ]
  },
  {
   "cell_type": "markdown",
   "metadata": {},
   "source": [
    "### 3. Yeni değişkenimiz hangi değişkenlerle ilişkilidir?"
   ]
  },
  {
   "cell_type": "code",
   "execution_count": 17,
   "metadata": {},
   "outputs": [
    {
     "data": {
      "text/html": [
       "<div>\n",
       "<style scoped>\n",
       "    .dataframe tbody tr th:only-of-type {\n",
       "        vertical-align: middle;\n",
       "    }\n",
       "\n",
       "    .dataframe tbody tr th {\n",
       "        vertical-align: top;\n",
       "    }\n",
       "\n",
       "    .dataframe thead th {\n",
       "        text-align: right;\n",
       "    }\n",
       "</style>\n",
       "<table border=\"1\" class=\"dataframe\">\n",
       "  <thead>\n",
       "    <tr style=\"text-align: right;\">\n",
       "      <th></th>\n",
       "      <th>matematik_notu</th>\n",
       "      <th>okuma_notu</th>\n",
       "      <th>yazma_notu</th>\n",
       "      <th>normalized_mat</th>\n",
       "      <th>normalized_okuma</th>\n",
       "      <th>normalized_yazma</th>\n",
       "      <th>ortalama_not</th>\n",
       "      <th>logged_ortalama_not</th>\n",
       "    </tr>\n",
       "  </thead>\n",
       "  <tbody>\n",
       "    <tr>\n",
       "      <th>matematik_notu</th>\n",
       "      <td>1.00000</td>\n",
       "      <td>0.81758</td>\n",
       "      <td>0.80264</td>\n",
       "      <td>1.00000</td>\n",
       "      <td>0.81758</td>\n",
       "      <td>0.80264</td>\n",
       "      <td>0.91875</td>\n",
       "      <td>0.89910</td>\n",
       "    </tr>\n",
       "    <tr>\n",
       "      <th>okuma_notu</th>\n",
       "      <td>0.81758</td>\n",
       "      <td>1.00000</td>\n",
       "      <td>0.95460</td>\n",
       "      <td>0.81758</td>\n",
       "      <td>1.00000</td>\n",
       "      <td>0.95460</td>\n",
       "      <td>0.97033</td>\n",
       "      <td>0.94291</td>\n",
       "    </tr>\n",
       "    <tr>\n",
       "      <th>yazma_notu</th>\n",
       "      <td>0.80264</td>\n",
       "      <td>0.95460</td>\n",
       "      <td>1.00000</td>\n",
       "      <td>0.80264</td>\n",
       "      <td>0.95460</td>\n",
       "      <td>1.00000</td>\n",
       "      <td>0.96567</td>\n",
       "      <td>0.94149</td>\n",
       "    </tr>\n",
       "    <tr>\n",
       "      <th>normalized_mat</th>\n",
       "      <td>1.00000</td>\n",
       "      <td>0.81758</td>\n",
       "      <td>0.80264</td>\n",
       "      <td>1.00000</td>\n",
       "      <td>0.81758</td>\n",
       "      <td>0.80264</td>\n",
       "      <td>0.91875</td>\n",
       "      <td>0.89910</td>\n",
       "    </tr>\n",
       "    <tr>\n",
       "      <th>normalized_okuma</th>\n",
       "      <td>0.81758</td>\n",
       "      <td>1.00000</td>\n",
       "      <td>0.95460</td>\n",
       "      <td>0.81758</td>\n",
       "      <td>1.00000</td>\n",
       "      <td>0.95460</td>\n",
       "      <td>0.97033</td>\n",
       "      <td>0.94291</td>\n",
       "    </tr>\n",
       "    <tr>\n",
       "      <th>normalized_yazma</th>\n",
       "      <td>0.80264</td>\n",
       "      <td>0.95460</td>\n",
       "      <td>1.00000</td>\n",
       "      <td>0.80264</td>\n",
       "      <td>0.95460</td>\n",
       "      <td>1.00000</td>\n",
       "      <td>0.96567</td>\n",
       "      <td>0.94149</td>\n",
       "    </tr>\n",
       "    <tr>\n",
       "      <th>ortalama_not</th>\n",
       "      <td>0.91875</td>\n",
       "      <td>0.97033</td>\n",
       "      <td>0.96567</td>\n",
       "      <td>0.91875</td>\n",
       "      <td>0.97033</td>\n",
       "      <td>0.96567</td>\n",
       "      <td>1.00000</td>\n",
       "      <td>0.97508</td>\n",
       "    </tr>\n",
       "    <tr>\n",
       "      <th>logged_ortalama_not</th>\n",
       "      <td>0.89910</td>\n",
       "      <td>0.94291</td>\n",
       "      <td>0.94149</td>\n",
       "      <td>0.89910</td>\n",
       "      <td>0.94291</td>\n",
       "      <td>0.94149</td>\n",
       "      <td>0.97508</td>\n",
       "      <td>1.00000</td>\n",
       "    </tr>\n",
       "  </tbody>\n",
       "</table>\n",
       "</div>"
      ],
      "text/plain": [
       "                     matematik_notu  okuma_notu  yazma_notu  normalized_mat  \\\n",
       "matematik_notu              1.00000     0.81758     0.80264         1.00000   \n",
       "okuma_notu                  0.81758     1.00000     0.95460         0.81758   \n",
       "yazma_notu                  0.80264     0.95460     1.00000         0.80264   \n",
       "normalized_mat              1.00000     0.81758     0.80264         1.00000   \n",
       "normalized_okuma            0.81758     1.00000     0.95460         0.81758   \n",
       "normalized_yazma            0.80264     0.95460     1.00000         0.80264   \n",
       "ortalama_not                0.91875     0.97033     0.96567         0.91875   \n",
       "logged_ortalama_not         0.89910     0.94291     0.94149         0.89910   \n",
       "\n",
       "                     normalized_okuma  normalized_yazma  ortalama_not  \\\n",
       "matematik_notu                0.81758           0.80264       0.91875   \n",
       "okuma_notu                    1.00000           0.95460       0.97033   \n",
       "yazma_notu                    0.95460           1.00000       0.96567   \n",
       "normalized_mat                0.81758           0.80264       0.91875   \n",
       "normalized_okuma              1.00000           0.95460       0.97033   \n",
       "normalized_yazma              0.95460           1.00000       0.96567   \n",
       "ortalama_not                  0.97033           0.96567       1.00000   \n",
       "logged_ortalama_not           0.94291           0.94149       0.97508   \n",
       "\n",
       "                     logged_ortalama_not  \n",
       "matematik_notu                   0.89910  \n",
       "okuma_notu                       0.94291  \n",
       "yazma_notu                       0.94149  \n",
       "normalized_mat                   0.89910  \n",
       "normalized_okuma                 0.94291  \n",
       "normalized_yazma                 0.94149  \n",
       "ortalama_not                     0.97508  \n",
       "logged_ortalama_not              1.00000  "
      ]
     },
     "execution_count": 17,
     "metadata": {},
     "output_type": "execute_result"
    }
   ],
   "source": [
    "df.corr()"
   ]
  },
  {
   "cell_type": "markdown",
   "metadata": {},
   "source": [
    "Normal olarak ortlama_not değişkenimiz ayrı ayrı ortalamayı oluşturan dersler ile ilişkilidir. Ancak biz diğer değişkenlerle ilişkisine bakalım."
   ]
  },
  {
   "cell_type": "markdown",
   "metadata": {},
   "source": [
    "Cinsiyet, köken, aile eğitim seviyesi, öğle yemeği, hazırlık kursu ile ortalama not değişkeninin ilişkisini inceleyeceğiz. "
   ]
  },
  {
   "cell_type": "code",
   "execution_count": 52,
   "metadata": {
    "scrolled": true
   },
   "outputs": [
    {
     "data": {
      "image/png": "[encoded data removed]",
      "text/plain": [
       "<Figure size 1368x144 with 3 Axes>"
      ]
     },
     "metadata": {
      "needs_background": "light"
     },
     "output_type": "display_data"
    }
   ],
   "source": [
    "plt.figure(figsize = (19,2))\n",
    "plt.subplot(1,3,1)\n",
    "sns.barplot(df['ortalama_not'], df['cinsiyet'])\n",
    "\n",
    "plt.subplot(1,3,2)\n",
    "sns.barplot(df['ortalama_not'], df['koken'])\n",
    "\n",
    "plt.subplot(1,3,3)\n",
    "sns.barplot(df['ortalama_not'], df['hazirlik_kursu'])\n",
    "plt.show()\n"
   ]
  },
  {
   "cell_type": "code",
   "execution_count": 53,
   "metadata": {},
   "outputs": [
    {
     "data": {
      "image/png": "[encoded data removed]",
      "text/plain": [
       "<Figure size 1512x216 with 2 Axes>"
      ]
     },
     "metadata": {
      "needs_background": "light"
     },
     "output_type": "display_data"
    }
   ],
   "source": [
    "plt.figure(figsize = (21,3))\n",
    "plt.subplot(1,2,1)\n",
    "sns.barplot(df['ortalama_not'], df['ogle_yemegi'])\n",
    "\n",
    "plt.subplot(1,2,2)\n",
    "sns.barplot(df['ortalama_not'], df['aile_egt_seviyesi'])\n",
    "plt.show()"
   ]
  },
  {
   "cell_type": "markdown",
   "metadata": {},
   "source": [
    "Grafiklerde ortalama notların kategorik değişkenlerle bir ilişksi olduğunu anlayabiliriz. Ancak bu farklılıkların istatistiksel olarak anlamlı olup olmadığını kontrol edelim."
   ]
  },
  {
   "cell_type": "code",
   "execution_count": 54,
   "metadata": {},
   "outputs": [
    {
     "data": {
      "text/html": [
       "<div>\n",
       "<style scoped>\n",
       "    .dataframe tbody tr th:only-of-type {\n",
       "        vertical-align: middle;\n",
       "    }\n",
       "\n",
       "    .dataframe tbody tr th {\n",
       "        vertical-align: top;\n",
       "    }\n",
       "\n",
       "    .dataframe thead th {\n",
       "        text-align: right;\n",
       "    }\n",
       "</style>\n",
       "<table border=\"1\" class=\"dataframe\">\n",
       "  <thead>\n",
       "    <tr style=\"text-align: right;\">\n",
       "      <th></th>\n",
       "      <th>cinsiyet</th>\n",
       "      <th>koken</th>\n",
       "      <th>aile_egt_seviyesi</th>\n",
       "      <th>ogle_yemegi</th>\n",
       "      <th>hazirlik_kursu</th>\n",
       "      <th>matematik_notu</th>\n",
       "      <th>okuma_notu</th>\n",
       "      <th>yazma_notu</th>\n",
       "      <th>normalized_mat</th>\n",
       "      <th>normalized_okuma</th>\n",
       "      <th>normalized_yazma</th>\n",
       "      <th>ortalama_not</th>\n",
       "      <th>logged_ortalama_not</th>\n",
       "    </tr>\n",
       "  </thead>\n",
       "  <tbody>\n",
       "    <tr>\n",
       "      <th>0</th>\n",
       "      <td>female</td>\n",
       "      <td>group B</td>\n",
       "      <td>bachelor's degree</td>\n",
       "      <td>standard</td>\n",
       "      <td>none</td>\n",
       "      <td>72</td>\n",
       "      <td>72</td>\n",
       "      <td>74</td>\n",
       "      <td>0.03358</td>\n",
       "      <td>0.03221</td>\n",
       "      <td>0.03356</td>\n",
       "      <td>72.66667</td>\n",
       "      <td>4.28588</td>\n",
       "    </tr>\n",
       "    <tr>\n",
       "      <th>1</th>\n",
       "      <td>female</td>\n",
       "      <td>group C</td>\n",
       "      <td>some college</td>\n",
       "      <td>standard</td>\n",
       "      <td>completed</td>\n",
       "      <td>69</td>\n",
       "      <td>90</td>\n",
       "      <td>88</td>\n",
       "      <td>0.03218</td>\n",
       "      <td>0.04026</td>\n",
       "      <td>0.03991</td>\n",
       "      <td>82.33333</td>\n",
       "      <td>4.41078</td>\n",
       "    </tr>\n",
       "    <tr>\n",
       "      <th>2</th>\n",
       "      <td>female</td>\n",
       "      <td>group B</td>\n",
       "      <td>master's degree</td>\n",
       "      <td>standard</td>\n",
       "      <td>none</td>\n",
       "      <td>90</td>\n",
       "      <td>95</td>\n",
       "      <td>93</td>\n",
       "      <td>0.04197</td>\n",
       "      <td>0.04250</td>\n",
       "      <td>0.04218</td>\n",
       "      <td>92.66667</td>\n",
       "      <td>4.52901</td>\n",
       "    </tr>\n",
       "    <tr>\n",
       "      <th>3</th>\n",
       "      <td>male</td>\n",
       "      <td>group A</td>\n",
       "      <td>associate's degree</td>\n",
       "      <td>free/reduced</td>\n",
       "      <td>none</td>\n",
       "      <td>47</td>\n",
       "      <td>57</td>\n",
       "      <td>44</td>\n",
       "      <td>0.02192</td>\n",
       "      <td>0.02550</td>\n",
       "      <td>0.01995</td>\n",
       "      <td>49.33333</td>\n",
       "      <td>3.89860</td>\n",
       "    </tr>\n",
       "    <tr>\n",
       "      <th>4</th>\n",
       "      <td>male</td>\n",
       "      <td>group C</td>\n",
       "      <td>some college</td>\n",
       "      <td>standard</td>\n",
       "      <td>none</td>\n",
       "      <td>76</td>\n",
       "      <td>78</td>\n",
       "      <td>75</td>\n",
       "      <td>0.03545</td>\n",
       "      <td>0.03489</td>\n",
       "      <td>0.03401</td>\n",
       "      <td>76.33333</td>\n",
       "      <td>4.33511</td>\n",
       "    </tr>\n",
       "  </tbody>\n",
       "</table>\n",
       "</div>"
      ],
      "text/plain": [
       "  cinsiyet    koken   aile_egt_seviyesi   ogle_yemegi hazirlik_kursu  \\\n",
       "0   female  group B   bachelor's degree      standard           none   \n",
       "1   female  group C        some college      standard      completed   \n",
       "2   female  group B     master's degree      standard           none   \n",
       "3     male  group A  associate's degree  free/reduced           none   \n",
       "4     male  group C        some college      standard           none   \n",
       "\n",
       "   matematik_notu  okuma_notu  yazma_notu  normalized_mat  normalized_okuma  \\\n",
       "0              72          72          74         0.03358           0.03221   \n",
       "1              69          90          88         0.03218           0.04026   \n",
       "2              90          95          93         0.04197           0.04250   \n",
       "3              47          57          44         0.02192           0.02550   \n",
       "4              76          78          75         0.03545           0.03489   \n",
       "\n",
       "   normalized_yazma  ortalama_not  logged_ortalama_not  \n",
       "0           0.03356      72.66667              4.28588  \n",
       "1           0.03991      82.33333              4.41078  \n",
       "2           0.04218      92.66667              4.52901  \n",
       "3           0.01995      49.33333              3.89860  \n",
       "4           0.03401      76.33333              4.33511  "
      ]
     },
     "execution_count": 54,
     "metadata": {},
     "output_type": "execute_result"
    }
   ],
   "source": [
    "df.head()"
   ]
  },
  {
   "cell_type": "code",
   "execution_count": 64,
   "metadata": {},
   "outputs": [
    {
     "name": "stdout",
     "output_type": "stream",
     "text": [
      "T Test Cinsiyet ----- Ttest_indResult(statistic=-4.169913529142, pvalue=3.311973638243664e-05)\n",
      "T Test Hazırlık Kursu ----- Ttest_indResult(statistic=-8.390944443482592, pvalue=1.633780203592351e-16)\n",
      "T Test Öğle Yemeği----- Ttest_indResult(statistic=-9.575113051511476, pvalue=7.736791812495384e-21)\n"
     ]
    }
   ],
   "source": [
    "ttest_cinsiyet = stats.ttest_ind(df[df['cinsiyet'] == 'male']['ortalama_not'],\n",
    "                                df[df['cinsiyet'] == 'female']['ortalama_not'])\n",
    "ttest_hazirlik = stats.ttest_ind(df[df['hazirlik_kursu'] == 'none']['ortalama_not'],\n",
    "                                df[df['hazirlik_kursu'] == 'completed']['ortalama_not'])\n",
    "ttest_yemek = stats.ttest_ind(df[df['ogle_yemegi'] == 'free/reduced']['ortalama_not'],\n",
    "                                df[df['ogle_yemegi'] == 'standard']['ortalama_not'])\n",
    "\n",
    "print('T Test Cinsiyet -----', ttest_cinsiyet)\n",
    "print('T Test Hazırlık Kursu -----', ttest_hazirlik)\n",
    "print('T Test Öğle Yemeği-----', ttest_yemek)"
   ]
  },
  {
   "cell_type": "markdown",
   "metadata": {},
   "source": [
    "Yukarıdaki T test sonuçlarında P değerlerinin oldukça küçük olduğunu görüyoruz. Yani bu farklılıklar istatistiksel olarak anlamlıdır. Dolayısıyla bu değişkenleri veri kümemizde tutmamızda fayda var."
   ]
  },
  {
   "cell_type": "code",
   "execution_count": 72,
   "metadata": {},
   "outputs": [
    {
     "data": {
      "text/html": [
       "<div>\n",
       "<style scoped>\n",
       "    .dataframe tbody tr th:only-of-type {\n",
       "        vertical-align: middle;\n",
       "    }\n",
       "\n",
       "    .dataframe tbody tr th {\n",
       "        vertical-align: top;\n",
       "    }\n",
       "\n",
       "    .dataframe thead th {\n",
       "        text-align: right;\n",
       "    }\n",
       "</style>\n",
       "<table border=\"1\" class=\"dataframe\">\n",
       "  <thead>\n",
       "    <tr style=\"text-align: right;\">\n",
       "      <th></th>\n",
       "      <th>grup_1</th>\n",
       "      <th>grup_2</th>\n",
       "      <th>istatistik</th>\n",
       "      <th>p_value</th>\n",
       "    </tr>\n",
       "  </thead>\n",
       "  <tbody>\n",
       "    <tr>\n",
       "      <th>0</th>\n",
       "      <td>group B</td>\n",
       "      <td>group C</td>\n",
       "      <td>-1.27825</td>\n",
       "      <td>0.20175</td>\n",
       "    </tr>\n",
       "    <tr>\n",
       "      <th>1</th>\n",
       "      <td>group B</td>\n",
       "      <td>group A</td>\n",
       "      <td>1.31650</td>\n",
       "      <td>0.18909</td>\n",
       "    </tr>\n",
       "    <tr>\n",
       "      <th>2</th>\n",
       "      <td>group B</td>\n",
       "      <td>group D</td>\n",
       "      <td>-2.80311</td>\n",
       "      <td>0.00528</td>\n",
       "    </tr>\n",
       "    <tr>\n",
       "      <th>3</th>\n",
       "      <td>group B</td>\n",
       "      <td>group E</td>\n",
       "      <td>-4.46038</td>\n",
       "      <td>0.00001</td>\n",
       "    </tr>\n",
       "    <tr>\n",
       "      <th>4</th>\n",
       "      <td>group C</td>\n",
       "      <td>group A</td>\n",
       "      <td>2.46659</td>\n",
       "      <td>0.01405</td>\n",
       "    </tr>\n",
       "    <tr>\n",
       "      <th>5</th>\n",
       "      <td>group C</td>\n",
       "      <td>group D</td>\n",
       "      <td>-1.80636</td>\n",
       "      <td>0.07138</td>\n",
       "    </tr>\n",
       "    <tr>\n",
       "      <th>6</th>\n",
       "      <td>group C</td>\n",
       "      <td>group E</td>\n",
       "      <td>-3.93587</td>\n",
       "      <td>0.00010</td>\n",
       "    </tr>\n",
       "    <tr>\n",
       "      <th>7</th>\n",
       "      <td>group A</td>\n",
       "      <td>group D</td>\n",
       "      <td>-3.71794</td>\n",
       "      <td>0.00023</td>\n",
       "    </tr>\n",
       "    <tr>\n",
       "      <th>8</th>\n",
       "      <td>group A</td>\n",
       "      <td>group E</td>\n",
       "      <td>-4.95867</td>\n",
       "      <td>0.00000</td>\n",
       "    </tr>\n",
       "    <tr>\n",
       "      <th>9</th>\n",
       "      <td>group D</td>\n",
       "      <td>group E</td>\n",
       "      <td>-2.48705</td>\n",
       "      <td>0.01329</td>\n",
       "    </tr>\n",
       "  </tbody>\n",
       "</table>\n",
       "</div>"
      ],
      "text/plain": [
       "    grup_1   grup_2  istatistik  p_value\n",
       "0  group B  group C    -1.27825  0.20175\n",
       "1  group B  group A     1.31650  0.18909\n",
       "2  group B  group D    -2.80311  0.00528\n",
       "3  group B  group E    -4.46038  0.00001\n",
       "4  group C  group A     2.46659  0.01405\n",
       "5  group C  group D    -1.80636  0.07138\n",
       "6  group C  group E    -3.93587  0.00010\n",
       "7  group A  group D    -3.71794  0.00023\n",
       "8  group A  group E    -4.95867  0.00000\n",
       "9  group D  group E    -2.48705  0.01329"
      ]
     },
     "metadata": {},
     "output_type": "display_data"
    }
   ],
   "source": [
    "kokenler = df['koken'].unique()\n",
    "tablo = pd.DataFrame(columns = ['grup_1', 'grup_2', 'istatistik', 'p_value'])\n",
    "for i in range(0, len(kokenler)):\n",
    "    for j in range(i+1, len(kokenler)):\n",
    "        ttest = stats.ttest_ind(df[df['koken'] == kokenler[i]]['ortalama_not'], df[df['koken'] == kokenler[j]]['ortalama_not'])\n",
    "        grup_1 = kokenler[i]\n",
    "        grup_2 = kokenler[j]\n",
    "        istatistik = ttest[0]\n",
    "        p_value  = ttest[1]\n",
    "        \n",
    "        tablo = tablo.append({'grup_1': grup_1,\n",
    "                             'grup_2': grup_2,\n",
    "                             'istatistik': istatistik,\n",
    "                             'p_value': p_value}, ignore_index = True )\n",
    "display(tablo)"
   ]
  },
  {
   "cell_type": "markdown",
   "metadata": {},
   "source": [
    "Significance leveli 0.05 olarak kabul edersek ,yukarıdaki tabloda bazı değişkenler arasındaki farklılıkların istatistiksel olarak anlamlı bazılarının ise anlamsız olduğunu görüyoruz."
   ]
  }
 ],
 "metadata": {
  "kernelspec": {
   "display_name": "Python 3",
   "language": "python",
   "name": "python3"
  },
  "language_info": {
   "codemirror_mode": {
    "name": "ipython",
    "version": 3
   },
   "file_extension": ".py",
   "mimetype": "text/x-python",
   "name": "python",
   "nbconvert_exporter": "python",
   "pygments_lexer": "ipython3",
   "version": "3.7.6"
  }
 },
 "nbformat": 4,
 "nbformat_minor": 2
}
