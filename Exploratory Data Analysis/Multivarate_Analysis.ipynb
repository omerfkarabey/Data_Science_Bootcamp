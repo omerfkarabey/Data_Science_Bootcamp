{
 "cells": [
  {
   "cell_type": "code",
   "execution_count": 1,
   "metadata": {},
   "outputs": [],
   "source": [
    "import matplotlib.pyplot as plt\n",
    "import seaborn as sns\n",
    "import numpy as np\n",
    "import pandas as pd\n",
    "import seaborn as sns\n",
    "import scipy.stats as stats\n",
    "from scipy.stats.mstats import winsorize\n",
    "from sqlalchemy import create_engine\n",
    "import warnings\n",
    "\n",
    "warnings.filterwarnings('ignore')\n",
    "sns.set(style=\"whitegrid\")\n",
    "pd.options.display.float_format = '{:.3f}'.format\n",
    "plt.rcParams['figure.dpi'] = 100\n",
    "plt.rcParams['figure.figsize'] = (8,5.5)"
   ]
  },
  {
   "cell_type": "code",
   "execution_count": 2,
   "metadata": {},
   "outputs": [
    {
     "data": {
      "text/html": [
       "<div>\n",
       "<style scoped>\n",
       "    .dataframe tbody tr th:only-of-type {\n",
       "        vertical-align: middle;\n",
       "    }\n",
       "\n",
       "    .dataframe tbody tr th {\n",
       "        vertical-align: top;\n",
       "    }\n",
       "\n",
       "    .dataframe thead th {\n",
       "        text-align: right;\n",
       "    }\n",
       "</style>\n",
       "<table border=\"1\" class=\"dataframe\">\n",
       "  <thead>\n",
       "    <tr style=\"text-align: right;\">\n",
       "      <th></th>\n",
       "      <th>cinsiyet</th>\n",
       "      <th>koken</th>\n",
       "      <th>aile_egt_seviyesi</th>\n",
       "      <th>ogle_yemegi</th>\n",
       "      <th>hazirlik_kursu</th>\n",
       "      <th>matematik_notu</th>\n",
       "      <th>okuma_notu</th>\n",
       "      <th>yazma_notu</th>\n",
       "    </tr>\n",
       "  </thead>\n",
       "  <tbody>\n",
       "    <tr>\n",
       "      <th>0</th>\n",
       "      <td>female</td>\n",
       "      <td>group B</td>\n",
       "      <td>bachelor's degree</td>\n",
       "      <td>standard</td>\n",
       "      <td>none</td>\n",
       "      <td>72</td>\n",
       "      <td>72</td>\n",
       "      <td>74</td>\n",
       "    </tr>\n",
       "    <tr>\n",
       "      <th>1</th>\n",
       "      <td>female</td>\n",
       "      <td>group C</td>\n",
       "      <td>some college</td>\n",
       "      <td>standard</td>\n",
       "      <td>completed</td>\n",
       "      <td>69</td>\n",
       "      <td>90</td>\n",
       "      <td>88</td>\n",
       "    </tr>\n",
       "    <tr>\n",
       "      <th>2</th>\n",
       "      <td>female</td>\n",
       "      <td>group B</td>\n",
       "      <td>master's degree</td>\n",
       "      <td>standard</td>\n",
       "      <td>none</td>\n",
       "      <td>90</td>\n",
       "      <td>95</td>\n",
       "      <td>93</td>\n",
       "    </tr>\n",
       "    <tr>\n",
       "      <th>3</th>\n",
       "      <td>male</td>\n",
       "      <td>group A</td>\n",
       "      <td>associate's degree</td>\n",
       "      <td>free/reduced</td>\n",
       "      <td>none</td>\n",
       "      <td>47</td>\n",
       "      <td>57</td>\n",
       "      <td>44</td>\n",
       "    </tr>\n",
       "    <tr>\n",
       "      <th>4</th>\n",
       "      <td>male</td>\n",
       "      <td>group C</td>\n",
       "      <td>some college</td>\n",
       "      <td>standard</td>\n",
       "      <td>none</td>\n",
       "      <td>76</td>\n",
       "      <td>78</td>\n",
       "      <td>75</td>\n",
       "    </tr>\n",
       "  </tbody>\n",
       "</table>\n",
       "</div>"
      ],
      "text/plain": [
       "  cinsiyet    koken   aile_egt_seviyesi   ogle_yemegi hazirlik_kursu  \\\n",
       "0   female  group B   bachelor's degree      standard           none   \n",
       "1   female  group C        some college      standard      completed   \n",
       "2   female  group B     master's degree      standard           none   \n",
       "3     male  group A  associate's degree  free/reduced           none   \n",
       "4     male  group C        some college      standard           none   \n",
       "\n",
       "   matematik_notu  okuma_notu  yazma_notu  \n",
       "0              72          72          74  \n",
       "1              69          90          88  \n",
       "2              90          95          93  \n",
       "3              47          57          44  \n",
       "4              76          78          75  "
      ]
     },
     "execution_count": 2,
     "metadata": {},
     "output_type": "execute_result"
    }
   ],
   "source": [
    "df = pd.read_csv('StudentsPerformance.csv')\n",
    "df.columns = ['cinsiyet', 'koken', 'aile_egt_seviyesi', 'ogle_yemegi', \n",
    "                              'hazirlik_kursu', 'matematik_notu', 'okuma_notu', 'yazma_notu']\n",
    "df.head()"
   ]
  },
  {
   "cell_type": "markdown",
   "metadata": {},
   "source": [
    "1. Sınav performanslarının nelerle ilişkili olduğunu görmek için bir korelasyon matrisi üretelim."
   ]
  },
  {
   "cell_type": "code",
   "execution_count": 3,
   "metadata": {},
   "outputs": [
    {
     "data": {
      "text/html": [
       "<div>\n",
       "<style scoped>\n",
       "    .dataframe tbody tr th:only-of-type {\n",
       "        vertical-align: middle;\n",
       "    }\n",
       "\n",
       "    .dataframe tbody tr th {\n",
       "        vertical-align: top;\n",
       "    }\n",
       "\n",
       "    .dataframe thead th {\n",
       "        text-align: right;\n",
       "    }\n",
       "</style>\n",
       "<table border=\"1\" class=\"dataframe\">\n",
       "  <thead>\n",
       "    <tr style=\"text-align: right;\">\n",
       "      <th></th>\n",
       "      <th>matematik_notu</th>\n",
       "      <th>okuma_notu</th>\n",
       "      <th>yazma_notu</th>\n",
       "    </tr>\n",
       "  </thead>\n",
       "  <tbody>\n",
       "    <tr>\n",
       "      <th>matematik_notu</th>\n",
       "      <td>1.000</td>\n",
       "      <td>0.818</td>\n",
       "      <td>0.803</td>\n",
       "    </tr>\n",
       "    <tr>\n",
       "      <th>okuma_notu</th>\n",
       "      <td>0.818</td>\n",
       "      <td>1.000</td>\n",
       "      <td>0.955</td>\n",
       "    </tr>\n",
       "    <tr>\n",
       "      <th>yazma_notu</th>\n",
       "      <td>0.803</td>\n",
       "      <td>0.955</td>\n",
       "      <td>1.000</td>\n",
       "    </tr>\n",
       "  </tbody>\n",
       "</table>\n",
       "</div>"
      ],
      "text/plain": [
       "                matematik_notu  okuma_notu  yazma_notu\n",
       "matematik_notu           1.000       0.818       0.803\n",
       "okuma_notu               0.818       1.000       0.955\n",
       "yazma_notu               0.803       0.955       1.000"
      ]
     },
     "execution_count": 3,
     "metadata": {},
     "output_type": "execute_result"
    }
   ],
   "source": [
    "df.corr()"
   ]
  },
  {
   "cell_type": "code",
   "execution_count": 4,
   "metadata": {},
   "outputs": [
    {
     "data": {
      "text/html": [
       "<div>\n",
       "<style scoped>\n",
       "    .dataframe tbody tr th:only-of-type {\n",
       "        vertical-align: middle;\n",
       "    }\n",
       "\n",
       "    .dataframe tbody tr th {\n",
       "        vertical-align: top;\n",
       "    }\n",
       "\n",
       "    .dataframe thead th {\n",
       "        text-align: right;\n",
       "    }\n",
       "</style>\n",
       "<table border=\"1\" class=\"dataframe\">\n",
       "  <thead>\n",
       "    <tr style=\"text-align: right;\">\n",
       "      <th></th>\n",
       "      <th>matematik_notu</th>\n",
       "      <th>okuma_notu</th>\n",
       "      <th>yazma_notu</th>\n",
       "    </tr>\n",
       "    <tr>\n",
       "      <th>cinsiyet</th>\n",
       "      <th></th>\n",
       "      <th></th>\n",
       "      <th></th>\n",
       "    </tr>\n",
       "  </thead>\n",
       "  <tbody>\n",
       "    <tr>\n",
       "      <th>female</th>\n",
       "      <td>63.633</td>\n",
       "      <td>72.608</td>\n",
       "      <td>72.467</td>\n",
       "    </tr>\n",
       "    <tr>\n",
       "      <th>male</th>\n",
       "      <td>68.728</td>\n",
       "      <td>65.473</td>\n",
       "      <td>63.311</td>\n",
       "    </tr>\n",
       "  </tbody>\n",
       "</table>\n",
       "</div>"
      ],
      "text/plain": [
       "          matematik_notu  okuma_notu  yazma_notu\n",
       "cinsiyet                                        \n",
       "female            63.633      72.608      72.467\n",
       "male              68.728      65.473      63.311"
      ]
     },
     "execution_count": 4,
     "metadata": {},
     "output_type": "execute_result"
    }
   ],
   "source": [
    "df.groupby('cinsiyet').mean()"
   ]
  },
  {
   "cell_type": "code",
   "execution_count": 5,
   "metadata": {},
   "outputs": [
    {
     "data": {
      "text/html": [
       "<div>\n",
       "<style scoped>\n",
       "    .dataframe tbody tr th:only-of-type {\n",
       "        vertical-align: middle;\n",
       "    }\n",
       "\n",
       "    .dataframe tbody tr th {\n",
       "        vertical-align: top;\n",
       "    }\n",
       "\n",
       "    .dataframe thead th {\n",
       "        text-align: right;\n",
       "    }\n",
       "</style>\n",
       "<table border=\"1\" class=\"dataframe\">\n",
       "  <thead>\n",
       "    <tr style=\"text-align: right;\">\n",
       "      <th></th>\n",
       "      <th>matematik_notu</th>\n",
       "      <th>okuma_notu</th>\n",
       "      <th>yazma_notu</th>\n",
       "    </tr>\n",
       "    <tr>\n",
       "      <th>koken</th>\n",
       "      <th></th>\n",
       "      <th></th>\n",
       "      <th></th>\n",
       "    </tr>\n",
       "  </thead>\n",
       "  <tbody>\n",
       "    <tr>\n",
       "      <th>group A</th>\n",
       "      <td>61.629</td>\n",
       "      <td>64.674</td>\n",
       "      <td>62.674</td>\n",
       "    </tr>\n",
       "    <tr>\n",
       "      <th>group B</th>\n",
       "      <td>63.453</td>\n",
       "      <td>67.353</td>\n",
       "      <td>65.600</td>\n",
       "    </tr>\n",
       "    <tr>\n",
       "      <th>group C</th>\n",
       "      <td>64.464</td>\n",
       "      <td>69.103</td>\n",
       "      <td>67.828</td>\n",
       "    </tr>\n",
       "    <tr>\n",
       "      <th>group D</th>\n",
       "      <td>67.363</td>\n",
       "      <td>70.031</td>\n",
       "      <td>70.145</td>\n",
       "    </tr>\n",
       "    <tr>\n",
       "      <th>group E</th>\n",
       "      <td>73.821</td>\n",
       "      <td>73.029</td>\n",
       "      <td>71.407</td>\n",
       "    </tr>\n",
       "  </tbody>\n",
       "</table>\n",
       "</div>"
      ],
      "text/plain": [
       "         matematik_notu  okuma_notu  yazma_notu\n",
       "koken                                          \n",
       "group A          61.629      64.674      62.674\n",
       "group B          63.453      67.353      65.600\n",
       "group C          64.464      69.103      67.828\n",
       "group D          67.363      70.031      70.145\n",
       "group E          73.821      73.029      71.407"
      ]
     },
     "execution_count": 5,
     "metadata": {},
     "output_type": "execute_result"
    }
   ],
   "source": [
    "df.groupby('koken').mean()"
   ]
  },
  {
   "cell_type": "code",
   "execution_count": 6,
   "metadata": {},
   "outputs": [
    {
     "data": {
      "text/html": [
       "<div>\n",
       "<style scoped>\n",
       "    .dataframe tbody tr th:only-of-type {\n",
       "        vertical-align: middle;\n",
       "    }\n",
       "\n",
       "    .dataframe tbody tr th {\n",
       "        vertical-align: top;\n",
       "    }\n",
       "\n",
       "    .dataframe thead th {\n",
       "        text-align: right;\n",
       "    }\n",
       "</style>\n",
       "<table border=\"1\" class=\"dataframe\">\n",
       "  <thead>\n",
       "    <tr style=\"text-align: right;\">\n",
       "      <th></th>\n",
       "      <th>matematik_notu</th>\n",
       "      <th>okuma_notu</th>\n",
       "      <th>yazma_notu</th>\n",
       "    </tr>\n",
       "    <tr>\n",
       "      <th>aile_egt_seviyesi</th>\n",
       "      <th></th>\n",
       "      <th></th>\n",
       "      <th></th>\n",
       "    </tr>\n",
       "  </thead>\n",
       "  <tbody>\n",
       "    <tr>\n",
       "      <th>associate's degree</th>\n",
       "      <td>67.883</td>\n",
       "      <td>70.928</td>\n",
       "      <td>69.896</td>\n",
       "    </tr>\n",
       "    <tr>\n",
       "      <th>bachelor's degree</th>\n",
       "      <td>69.390</td>\n",
       "      <td>73.000</td>\n",
       "      <td>73.381</td>\n",
       "    </tr>\n",
       "    <tr>\n",
       "      <th>high school</th>\n",
       "      <td>62.138</td>\n",
       "      <td>64.704</td>\n",
       "      <td>62.449</td>\n",
       "    </tr>\n",
       "    <tr>\n",
       "      <th>master's degree</th>\n",
       "      <td>69.746</td>\n",
       "      <td>75.373</td>\n",
       "      <td>75.678</td>\n",
       "    </tr>\n",
       "    <tr>\n",
       "      <th>some college</th>\n",
       "      <td>67.128</td>\n",
       "      <td>69.460</td>\n",
       "      <td>68.841</td>\n",
       "    </tr>\n",
       "    <tr>\n",
       "      <th>some high school</th>\n",
       "      <td>63.497</td>\n",
       "      <td>66.939</td>\n",
       "      <td>64.888</td>\n",
       "    </tr>\n",
       "  </tbody>\n",
       "</table>\n",
       "</div>"
      ],
      "text/plain": [
       "                    matematik_notu  okuma_notu  yazma_notu\n",
       "aile_egt_seviyesi                                         \n",
       "associate's degree          67.883      70.928      69.896\n",
       "bachelor's degree           69.390      73.000      73.381\n",
       "high school                 62.138      64.704      62.449\n",
       "master's degree             69.746      75.373      75.678\n",
       "some college                67.128      69.460      68.841\n",
       "some high school            63.497      66.939      64.888"
      ]
     },
     "execution_count": 6,
     "metadata": {},
     "output_type": "execute_result"
    }
   ],
   "source": [
    "df.groupby('aile_egt_seviyesi').mean()"
   ]
  },
  {
   "cell_type": "code",
   "execution_count": 7,
   "metadata": {},
   "outputs": [],
   "source": [
    "baslik_font = {'family': 'arial', 'color': 'darkred', 'weight': 'bold', 'size' : 13}\n",
    "eksen_font = {'family':'arial', 'color':'darkblue', 'weight' : 'bold', 'size':10}"
   ]
  },
  {
   "cell_type": "markdown",
   "metadata": {},
   "source": [
    "Barplotlar ile bu ilişkilere tekrar bakalım. Cinsiyet, köken ve aile eğitim seviyesinin matematik notlarına etkisini değerlendirelim."
   ]
  },
  {
   "cell_type": "code",
   "execution_count": 8,
   "metadata": {},
   "outputs": [
    {
     "data": {
      "image/png": "[encoded data removed]",
      "text/plain": [
       "<Figure size 1296x360 with 3 Axes>"
      ]
     },
     "metadata": {
      "needs_background": "light"
     },
     "output_type": "display_data"
    }
   ],
   "source": [
    "plt.figure(figsize=(18,5))\n",
    "\n",
    "plt.subplot(1,3,1)\n",
    "sns.barplot(df[\"cinsiyet\"], df[\"matematik_notu\"])\n",
    "plt.title(\"Matematik Ort.\", fontdict = baslik_font)\n",
    "plt.xticks(rotation='vertical')\n",
    "\n",
    "plt.subplot(1,3,2)\n",
    "sns.barplot(df[\"koken\"], df[\"matematik_notu\"])\n",
    "plt.title(\"Matematik Ort.\", fontdict = baslik_font)\n",
    "plt.xticks(rotation='vertical')\n",
    "\n",
    "plt.subplot(1,3,3)\n",
    "sns.barplot(df[\"aile_egt_seviyesi\"], df[\"matematik_notu\"])\n",
    "plt.title(\"Matematik Ort.\", fontdict = baslik_font)\n",
    "plt.xticks(rotation='vertical')\n",
    "plt.show()"
   ]
  },
  {
   "cell_type": "markdown",
   "metadata": {},
   "source": [
    "Burada kategorik değişkenlerimiz ile sürekli değişkenlerimiz arasında bir ilişki olduğunu gözlemliyoruz. Kaba bir gözlemle aile eğitim seviyesi arttıkça not ortalaması artıyor veya erkekler kızlardan daha başarılı diyebiliriz. \n",
    "\n",
    "Ancak dikkat etmemiz gereken nokta, popülasyonu düşük grupların istatistiksel sonuçları yanıltıcı olabilir."
   ]
  },
  {
   "cell_type": "code",
   "execution_count": 9,
   "metadata": {},
   "outputs": [
    {
     "name": "stdout",
     "output_type": "stream",
     "text": [
      "erkek sayısı: 482\n",
      "kız sayısı: 518\n"
     ]
    }
   ],
   "source": [
    "# Erkek ve kız sayıları yakın olduğu için problem yok.\n",
    "print('erkek sayısı:',df[df['cinsiyet'] == 'male']['cinsiyet'].count())\n",
    "print('kız sayısı:',df[df['cinsiyet'] == 'female']['cinsiyet'].count())"
   ]
  },
  {
   "cell_type": "markdown",
   "metadata": {},
   "source": [
    "Matematik notları için farklı kökenden gelen öğrenci sayılarına bakalım."
   ]
  },
  {
   "cell_type": "code",
   "execution_count": 10,
   "metadata": {},
   "outputs": [
    {
     "data": {
      "text/plain": [
       "koken\n",
       "group A     89\n",
       "group B    190\n",
       "group C    319\n",
       "group D    262\n",
       "group E    140\n",
       "Name: matematik_notu, dtype: int64"
      ]
     },
     "execution_count": 10,
     "metadata": {},
     "output_type": "execute_result"
    }
   ],
   "source": [
    "df.groupby('koken')['matematik_notu'].count()"
   ]
  },
  {
   "cell_type": "markdown",
   "metadata": {},
   "source": [
    "A grubundaki öğrenci sayısı azlığı yanıltıcı olabilir. Aykırı değer var mı diye bakalım. Varsa temizleyelim."
   ]
  },
  {
   "cell_type": "code",
   "execution_count": 11,
   "metadata": {},
   "outputs": [
    {
     "data": {
      "image/png": "[encoded data removed]",
      "text/plain": [
       "<Figure size 432x288 with 2 Axes>"
      ]
     },
     "metadata": {
      "needs_background": "light"
     },
     "output_type": "display_data"
    }
   ],
   "source": [
    "plt.subplot(1,2,1)\n",
    "plt.boxplot(df[df['koken']== 'group A']['matematik_notu'])\n",
    "\n",
    "plt.subplot(1,2,2)\n",
    "plt.hist(df[df['koken']== 'group A']['matematik_notu'])\n",
    "plt.show()"
   ]
  },
  {
   "cell_type": "markdown",
   "metadata": {},
   "source": [
    "Boxplot ile baktığımızda aykırı değer görmüyoruz. Aynı şekilde histogram da aşırı değerlere işaret etmiyor. Dolayısıyla aykırı değerleri azaltmak için bir işlem yapmayacağız."
   ]
  },
  {
   "cell_type": "markdown",
   "metadata": {},
   "source": [
    "2. Öğle yemek tipinin sınav performanslarıyla ilişkisini inceleyelim."
   ]
  },
  {
   "cell_type": "code",
   "execution_count": 12,
   "metadata": {},
   "outputs": [
    {
     "data": {
      "image/png": "[encoded data removed]",
      "text/plain": [
       "<Figure size 216x216 with 1 Axes>"
      ]
     },
     "metadata": {
      "needs_background": "light"
     },
     "output_type": "display_data"
    }
   ],
   "source": [
    "plt.figure(figsize=(3,3))\n",
    "sns.barplot(df[\"ogle_yemegi\"], df[\"matematik_notu\"])\n",
    "plt.title(\"Matematik Ort.\", fontdict = baslik_font)\n",
    "plt.xticks(rotation='horizontal')\n",
    "plt.show()"
   ]
  },
  {
   "cell_type": "code",
   "execution_count": 13,
   "metadata": {},
   "outputs": [
    {
     "name": "stdout",
     "output_type": "stream",
     "text": [
      "standart yemek mat. ort. 70.03410852713178\n",
      "free/reduced yemek mat. ort 58.92112676056338\n"
     ]
    }
   ],
   "source": [
    "# Yemek çeşitleri ve matematik ortalamaları\n",
    "\n",
    "print('standart yemek mat. ort.', df[df['ogle_yemegi']=='standard']['matematik_notu'].mean())\n",
    "print('free/reduced yemek mat. ort', df[df['ogle_yemegi']=='free/reduced']['matematik_notu'].mean())"
   ]
  },
  {
   "cell_type": "markdown",
   "metadata": {},
   "source": [
    "Yemek çeşidinin matematik notlarını etkilediği görülüyor. T testi ile statistiksel olarak bu farklılığa tekrar bakalım."
   ]
  },
  {
   "cell_type": "code",
   "execution_count": 14,
   "metadata": {},
   "outputs": [
    {
     "data": {
      "text/plain": [
       "Ttest_indResult(statistic=11.837180472914612, pvalue=2.4131955993137074e-30)"
      ]
     },
     "execution_count": 14,
     "metadata": {},
     "output_type": "execute_result"
    }
   ],
   "source": [
    "df_std = df[df['ogle_yemegi']=='standard']['matematik_notu']\n",
    "df_free = df[df['ogle_yemegi']=='free/reduced']['matematik_notu']\n",
    "\n",
    "stats.ttest_ind(df_std, df_free)"
   ]
  },
  {
   "cell_type": "markdown",
   "metadata": {},
   "source": [
    "3. Hazırlık kurslarının sınav notlarına etkisini inceleyelim."
   ]
  },
  {
   "cell_type": "code",
   "execution_count": 24,
   "metadata": {},
   "outputs": [
    {
     "data": {
      "image/png": "[encoded data removed]",
      "text/plain": [
       "<Figure size 1008x288 with 3 Axes>"
      ]
     },
     "metadata": {
      "needs_background": "light"
     },
     "output_type": "display_data"
    }
   ],
   "source": [
    "plt.figure(figsize = (14,4))\n",
    "plt.subplot(1,3,1)\n",
    "sns.barplot(df['hazirlik_kursu'], df['matematik_notu'])\n",
    "plt.title('Matematik', fontdict = baslik_font)\n",
    "\n",
    "plt.subplot(1,3,2)\n",
    "sns.barplot(df['hazirlik_kursu'], df['okuma_notu'])\n",
    "plt.title('Yazma', fontdict = baslik_font)\n",
    "\n",
    "plt.subplot(1,3,3)\n",
    "sns.barplot(df['hazirlik_kursu'], df['yazma_notu'])\n",
    "plt.title('Okuma', fontdict = baslik_font)\n",
    "plt.show()"
   ]
  },
  {
   "cell_type": "markdown",
   "metadata": {},
   "source": [
    "Yukarıda, hazırlık kurslarını tamamlayan öğrencilerin bütün derslerde daha başarılı olduğunu görebiliriz. Şimdi matematik notları ve hazırlık kursu değişkenleri için T-testi yapalım."
   ]
  },
  {
   "cell_type": "code",
   "execution_count": 27,
   "metadata": {},
   "outputs": [
    {
     "data": {
      "text/plain": [
       "Ttest_indResult(statistic=-5.704616417349102, pvalue=1.5359134607147415e-08)"
      ]
     },
     "execution_count": 27,
     "metadata": {},
     "output_type": "execute_result"
    }
   ],
   "source": [
    "#????\n",
    "df_none = df[df['hazirlik_kursu'] == 'none']['matematik_notu']\n",
    "df_completed = df[df['hazirlik_kursu'] == 'completed']['matematik_notu']\n",
    "\n",
    "stats.ttest_ind(df_none, df_completed)"
   ]
  },
  {
   "cell_type": "markdown",
   "metadata": {},
   "source": [
    "4. Korelasyonu en yüksek iki dersi bulalım"
   ]
  },
  {
   "cell_type": "markdown",
   "metadata": {},
   "source": [
    "Aynı derslerin korelasyon katsayılarını sıfır yapalım."
   ]
  },
  {
   "cell_type": "code",
   "execution_count": 140,
   "metadata": {},
   "outputs": [],
   "source": [
    "daf = df.corr().values\n",
    "np.fill_diagonal(daf, 0)"
   ]
  },
  {
   "cell_type": "markdown",
   "metadata": {},
   "source": [
    "Matrisimizdeki en yüksek değerin pozisyonunu saptayalım."
   ]
  },
  {
   "cell_type": "code",
   "execution_count": 119,
   "metadata": {},
   "outputs": [
    {
     "data": {
      "text/plain": [
       "(array([1, 2], dtype=int32), array([2, 1], dtype=int32))"
      ]
     },
     "execution_count": 119,
     "metadata": {},
     "output_type": "execute_result"
    }
   ],
   "source": [
    "a = np.where(daf == daf.max())\n",
    "a\n",
    "# [1,2]'de"
   ]
  },
  {
   "cell_type": "code",
   "execution_count": 141,
   "metadata": {},
   "outputs": [
    {
     "data": {
      "text/html": [
       "<div>\n",
       "<style scoped>\n",
       "    .dataframe tbody tr th:only-of-type {\n",
       "        vertical-align: middle;\n",
       "    }\n",
       "\n",
       "    .dataframe tbody tr th {\n",
       "        vertical-align: top;\n",
       "    }\n",
       "\n",
       "    .dataframe thead th {\n",
       "        text-align: right;\n",
       "    }\n",
       "</style>\n",
       "<table border=\"1\" class=\"dataframe\">\n",
       "  <thead>\n",
       "    <tr style=\"text-align: right;\">\n",
       "      <th></th>\n",
       "      <th>matematik_notu</th>\n",
       "      <th>okuma_notu</th>\n",
       "      <th>yazma_notu</th>\n",
       "    </tr>\n",
       "  </thead>\n",
       "  <tbody>\n",
       "    <tr>\n",
       "      <th>matematik_notu</th>\n",
       "      <td>1.000</td>\n",
       "      <td>0.818</td>\n",
       "      <td>0.803</td>\n",
       "    </tr>\n",
       "    <tr>\n",
       "      <th>okuma_notu</th>\n",
       "      <td>0.818</td>\n",
       "      <td>1.000</td>\n",
       "      <td>0.955</td>\n",
       "    </tr>\n",
       "    <tr>\n",
       "      <th>yazma_notu</th>\n",
       "      <td>0.803</td>\n",
       "      <td>0.955</td>\n",
       "      <td>1.000</td>\n",
       "    </tr>\n",
       "  </tbody>\n",
       "</table>\n",
       "</div>"
      ],
      "text/plain": [
       "                matematik_notu  okuma_notu  yazma_notu\n",
       "matematik_notu           1.000       0.818       0.803\n",
       "okuma_notu               0.818       1.000       0.955\n",
       "yazma_notu               0.803       0.955       1.000"
      ]
     },
     "execution_count": 141,
     "metadata": {},
     "output_type": "execute_result"
    }
   ],
   "source": [
    "df.corr()"
   ]
  },
  {
   "cell_type": "code",
   "execution_count": 143,
   "metadata": {},
   "outputs": [
    {
     "name": "stdout",
     "output_type": "stream",
     "text": [
      "Korelasyonu en yüksek olan iki ders: okuma_notu ve yazma_notu dur.\n"
     ]
    }
   ],
   "source": [
    "x= df.corr().columns[1]\n",
    "y= df.corr().index.values[2]\n",
    "print('Korelasyonu en yüksek olan iki ders: {} ve {} dur.'.format(x,y))"
   ]
  }
 ],
 "metadata": {
  "kernelspec": {
   "display_name": "Python 3",
   "language": "python",
   "name": "python3"
  },
  "language_info": {
   "codemirror_mode": {
    "name": "ipython",
    "version": 3
   },
   "file_extension": ".py",
   "mimetype": "text/x-python",
   "name": "python",
   "nbconvert_exporter": "python",
   "pygments_lexer": "ipython3",
   "version": "3.7.2"
  }
 },
 "nbformat": 4,
 "nbformat_minor": 2
}
