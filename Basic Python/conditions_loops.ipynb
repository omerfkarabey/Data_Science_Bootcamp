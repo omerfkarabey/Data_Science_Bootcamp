{
 "cells": [
  {
   "cell_type": "code",
   "execution_count": 1,
   "metadata": {},
   "outputs": [],
   "source": [
    "#string değişkeni ters çevirir. \"omer\" \"remo\" gibi.\n",
    "def reverse(s):\n",
    "    str = \"\"\n",
    "    for i in s:\n",
    "        str = i + str\n",
    "    return str"
   ]
  },
  {
   "cell_type": "code",
   "execution_count": null,
   "metadata": {},
   "outputs": [],
   "source": [
    "#girilen fahrenait veya celcius sıcaklık değerlerini birbirine dönüştürüp ekrana yazdırır.\n",
    "\n",
    "x = None \n",
    "while x not in [\"f\",\"c\"]:\n",
    "    \n",
    "    x = input(\"Çevirmek istediğiniz birimi seçin(f/c): \")\n",
    "\n",
    "    if x == \"f\":\n",
    "        try:\n",
    "            y = int(input(\"Kaç fahrenait olduğunu girin: \"))\n",
    "        except ValueError:\n",
    "            print(\"Lütfen tamsayı girin: \")\n",
    "            x = None \n",
    "            continue\n",
    "        c = 0\n",
    "        f = 0\n",
    "        f = y\n",
    "        c = (f-32)/1.8\n",
    "        print(c, \"Celcius\")\n",
    "\n",
    "    elif x == \"c\":\n",
    "        try:\n",
    "            y = int(input(\"Kaç celcius olduğunu girin: \"))\n",
    "        except ValueError:\n",
    "            print(\"Lütfen tamsayı girin: \")\n",
    "            x = None \n",
    "            continue\n",
    "    \n",
    "        c = 0\n",
    "        f = 0\n",
    "        c = y\n",
    "        f = c*1.8 + 32\n",
    "        print (f, \"Fahrenait\")\n",
    "    \n",
    "\n"
   ]
  },
  {
   "cell_type": "code",
   "execution_count": null,
   "metadata": {},
   "outputs": [],
   "source": [
    "#klavyeden sayıyı alır, çarpım tablosunu çıkarır.\n",
    "\n",
    "x = int(input(\"Bir sayı girin: \"))\n",
    "\n",
    "for i in range (0,11):\n",
    "    \n",
    "    print(x,\"*\",i, \"=\", x*i)"
   ]
  },
  {
   "cell_type": "code",
   "execution_count": null,
   "metadata": {},
   "outputs": [],
   "source": [
    "#1'den 20'ye kadar olan tek sayıların karesini, çift sayıların küpünü alarak listeye oluşturur.\n",
    "\n",
    "list = [x**2  if x%2==0 else x**3 for x in range(1,21)]\n"
   ]
  },
  {
   "cell_type": "code",
   "execution_count": null,
   "metadata": {},
   "outputs": [],
   "source": [
    "# fibonacci serisinin ilk 50 terimini ekrana yazdırır.\n",
    "\n",
    "a, b = 1, 1\n",
    "print (a,end=\" \")\n",
    "print (b,end= \" \")\n",
    "i = 2\n",
    "while i<=50:\n",
    "    a,b = b, a+b\n",
    "    print (b,end=\" \")\n",
    "    i += 1"
   ]
  }
 ],
 "metadata": {
  "kernelspec": {
   "display_name": "Python 3",
   "language": "python",
   "name": "python3"
  },
  "language_info": {
   "codemirror_mode": {
    "name": "ipython",
    "version": 3
   },
   "file_extension": ".py",
   "mimetype": "text/x-python",
   "name": "python",
   "nbconvert_exporter": "python",
   "pygments_lexer": "ipython3",
   "version": "3.7.2"
  }
 },
 "nbformat": 4,
 "nbformat_minor": 2
}
