{
 "cells": [
  {
   "cell_type": "code",
   "execution_count": null,
   "metadata": {},
   "outputs": [],
   "source": [
    "# metni istenen formatta yazdırır.\n",
    "output1 = 'Hafta başında %d dolarlık bitcoin aldığımızda günde\\nortalama yüzde %d kazançla bir hafta sonunda %.2f dolar kazanırdık.' % (1000,12,1210.68)\n",
    "print (output1)"
   ]
  },
  {
   "cell_type": "code",
   "execution_count": null,
   "metadata": {},
   "outputs": [],
   "source": [
    "# girilen dosya adına '.py' uzantısı ekler. \n",
    "\n",
    "file_name = input ('Enter file name: ')\n",
    "\n",
    "new_file = file_name+\".py\"\n",
    "\n",
    "print (new_file)"
   ]
  },
  {
   "cell_type": "code",
   "execution_count": null,
   "metadata": {},
   "outputs": [],
   "source": [
    "# \n",
    "percentage = 0.12 #increase rate\n",
    "investment = 1000 #money invested\n",
    "day = 7 #one week\n",
    "\n",
    "# calculating the total money after a day\n",
    "def calculate(per, invest):\n",
    "    x = invest + invest * per\n",
    "    return x\n",
    "\n",
    "result = investment\n",
    "\n",
    "#calculating the total money after a week\n",
    "for i in range(0, day): \n",
    "    investment = calculate(percentage, investment)\n",
    "print(\"Toplam varlığınız: %0.2f dolardır.\" %(investment) )"
   ]
  }
 ],
 "metadata": {
  "kernelspec": {
   "display_name": "Python 3",
   "language": "python",
   "name": "python3"
  },
  "language_info": {
   "codemirror_mode": {
    "name": "ipython",
    "version": 3
   },
   "file_extension": ".py",
   "mimetype": "text/x-python",
   "name": "python",
   "nbconvert_exporter": "python",
   "pygments_lexer": "ipython3",
   "version": "3.7.6"
  }
 },
 "nbformat": 4,
 "nbformat_minor": 2
}
