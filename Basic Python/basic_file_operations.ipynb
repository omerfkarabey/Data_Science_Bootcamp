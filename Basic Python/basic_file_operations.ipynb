{
 "cells": [
  {
   "cell_type": "code",
   "execution_count": 30,
   "metadata": {},
   "outputs": [
    {
     "name": "stdout",
     "output_type": "stream",
     "text": [
      "ilk  Kekre  Gecmisle  Aciyla  Ofkeyle  \n"
     ]
    }
   ],
   "source": [
    "# her dizenin ilk kelimesini yazdırır.\n",
    "\n",
    "f=open(\"yarimada.txt\",\"r\")\n",
    "\n",
    "line = f.readline()\n",
    "\n",
    "words = []\n",
    "for line in f:\n",
    "    if line.strip():\n",
    "        words.append(line.split(maxsplit=1)[0])\n",
    "\n",
    "#ilk kelimelerin olduğu words dizisini oluşturdum.\n",
    "\n",
    "with open(\"ilk_kelime.txt\",\"w\") as f:\n",
    "    \n",
    "    \n",
    "    for i in range(len(words)):\n",
    "        \n",
    "        f.write(words[i])\n",
    "        f.write(\"  \")\n",
    "\n",
    "with open(\"ilk_kelime.txt\",\"r\") as f:\n",
    "    \n",
    "    kelimeler = f.readline()\n",
    "    \n",
    "    print(kelimeler)\n",
    "        \n",
    "    "
   ]
  },
  {
   "cell_type": "code",
   "execution_count": 34,
   "metadata": {},
   "outputs": [
    {
     "name": "stdout",
     "output_type": "stream",
     "text": [
      "6\n"
     ]
    }
   ],
   "source": [
    "#şiirdeki dize sayısını buldurur.\n",
    "with open(\"yarimada.txt\",\"r\") as f:\n",
    "    \n",
    "    line_number = f.readlines()\n",
    "\n",
    "\n",
    "print(len(line_number))\n"
   ]
  }
 ],
 "metadata": {
  "kernelspec": {
   "display_name": "Python 3",
   "language": "python",
   "name": "python3"
  },
  "language_info": {
   "codemirror_mode": {
    "name": "ipython",
    "version": 3
   },
   "file_extension": ".py",
   "mimetype": "text/x-python",
   "name": "python",
   "nbconvert_exporter": "python",
   "pygments_lexer": "ipython3",
   "version": "3.7.6"
  }
 },
 "nbformat": 4,
 "nbformat_minor": 2
}
