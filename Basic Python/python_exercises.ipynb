{
 "cells": [
  {
   "cell_type": "code",
   "execution_count": null,
   "metadata": {},
   "outputs": [],
   "source": [
    "# girilen sayının faktoriyel değerini verir.\n",
    "\n",
    "x = None\n",
    "while x == None:\n",
    "    number = int(input(\"Bir sayı giriniz: \"))\n",
    "    carpim = 1\n",
    "    if type(number) == int:\n",
    "        for i in range(1, (number + 1)):\n",
    "            carpim = carpim * i\n",
    "        print(carpim)\n",
    "\n",
    "    elif type(number) != int:\n",
    "        \n",
    "        print(\"Sayı giriniz: \")\n",
    "        continue"
   ]
  },
  {
   "cell_type": "code",
   "execution_count": null,
   "metadata": {},
   "outputs": [],
   "source": [
    "# 2000 ile 3200 arasında 7 ile tam bölünebilen, 5 ile tam bölünemeyen sayıları ekrana yazdırır.\n",
    "\n",
    "line = []\n",
    "\n",
    "for i in range(2000,3201):\n",
    "    if (i%7==0) and (i%5!=0):\n",
    "        line.append(str(i))\n",
    "\n",
    "print(', '.join(line))"
   ]
  },
  {
   "cell_type": "code",
   "execution_count": null,
   "metadata": {},
   "outputs": [],
   "source": [
    "# 1-n arasında sayıları kareleriyle birlikte sözlüğe ekler ve yazdırır.\n",
    "\n",
    "my_list={}\n",
    "\n",
    "number = int(input(\"Bir sayı giriniz: \"))\n",
    "\n",
    "for i in range(1, (number+1)):\n",
    "    my_list.update({i : i*i})\n",
    "print(my_list)"
   ]
  },
  {
   "cell_type": "code",
   "execution_count": null,
   "metadata": {},
   "outputs": [],
   "source": [
    "# kullanıcıdan sayı alıp bunları liste ve tupe halinde yazdırır. \n",
    "\n",
    "liste = []\n",
    "demet = ()\n",
    "x = None\n",
    "while x == None:\n",
    "    number = int(input(\"sayı girin: \"))\n",
    "\n",
    "    liste.append(number)\n",
    "    print(liste)\n",
    "    demet = tuple(liste)\n",
    "    print(demet)"
   ]
  },
  {
   "cell_type": "code",
   "execution_count": null,
   "metadata": {},
   "outputs": [],
   "source": [
    "# kullanıcıdan aldığı sayıları bir formüle sokarak ekrana yazdırır.\n",
    "import math\n",
    "c = 50\n",
    "h = 30\n",
    "value = []\n",
    "items = [x for x in input(\"sayı girin: \").split(',')]\n",
    "for d in items:\n",
    "    value.append(str(int(round(math.sqrt(2*c*float(d)/h)))))\n",
    "print(','.join(value))"
   ]
  },
  {
   "cell_type": "code",
   "execution_count": null,
   "metadata": {},
   "outputs": [],
   "source": [
    "#listedeki 5'ten küçük sayıları başka bir listeye atıp listeyi yazdırır.\n",
    "\n",
    "liste = [2,5,7,9,3,6,7,4,5,1,5]\n",
    "\n",
    "new_list = []\n",
    "\n",
    "for i in liste:\n",
    "    if i<5:\n",
    "        new_list.append(i)\n",
    "\n",
    "print (new_list)"
   ]
  },
  {
   "cell_type": "code",
   "execution_count": null,
   "metadata": {},
   "outputs": [],
   "source": [
    "#listedeki çift sayıları ayırarak başka bir listede yazdırır.\n",
    "\n",
    "a = [1, 4, 9, 16, 25, 36, 49, 64, 81, 100]\n",
    "\n",
    "b = []\n",
    "\n",
    "for i in range(len(a)):\n",
    "    if (a[i]%2==0):\n",
    "\n",
    "        b.append(a[i])\n",
    "\n",
    "print(b)"
   ]
  },
  {
   "cell_type": "code",
   "execution_count": null,
   "metadata": {},
   "outputs": [],
   "source": [
    "# sayı tahmini oyunu\n",
    "\n",
    "import random\n",
    "\n",
    "number = random.randint(1,9)\n",
    "guess = 0\n",
    "count = 0\n",
    "\n",
    "while guess != number and guess != \"exit\":\n",
    "    guess = input(\"What is your guess: \")\n",
    "    if guess == \"exit\":\n",
    "        break\n",
    "\n",
    "    guess = int(guess)\n",
    "    count += 1\n",
    "\n",
    "    if guess > number :\n",
    "        print(\"Azalt\")\n",
    "\n",
    "    elif guess < number:\n",
    "        print(\"Arttır\")\n",
    "\n",
    "    else:\n",
    "        print(\"Bildin \",count, \"deneme sonunda\")"
   ]
  },
  {
   "cell_type": "code",
   "execution_count": 1,
   "metadata": {},
   "outputs": [
    {
     "name": "stdout",
     "output_type": "stream",
     "text": [
      "['ayşe', 'omer', 'mehmet', 'ali']\n"
     ]
    }
   ],
   "source": [
    "# listedeki tekrarlayan elemanları siler, listeyi tekrar yazdırır.\n",
    "\n",
    "names = [\"omer\",\"ali\",\"ayşe\",\"ali\",\"omer\",\"mehmet\"]\n",
    "\n",
    "names = set(names)\n",
    "names = list(names)\n",
    "\n",
    "print(names)"
   ]
  },
  {
   "cell_type": "code",
   "execution_count": null,
   "metadata": {},
   "outputs": [],
   "source": []
  }
 ],
 "metadata": {
  "kernelspec": {
   "display_name": "Python 3",
   "language": "python",
   "name": "python3"
  },
  "language_info": {
   "codemirror_mode": {
    "name": "ipython",
    "version": 3
   },
   "file_extension": ".py",
   "mimetype": "text/x-python",
   "name": "python",
   "nbconvert_exporter": "python",
   "pygments_lexer": "ipython3",
   "version": "3.7.2"
  }
 },
 "nbformat": 4,
 "nbformat_minor": 2
}
