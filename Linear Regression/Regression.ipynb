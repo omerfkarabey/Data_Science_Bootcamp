{
 "cells": [
  {
   "cell_type": "markdown",
   "metadata": {},
   "source": [
    "1. Birkaç ülke için elinizde finansal, ekonomik ve sosyal göstergeler hakkında Dünya Bankası verileri olduğunu varsayalım. Bu ülkelerdeki gelişme düzeyini etkileyen faktörleri ölçmek istiyorsunuz. Bu amaçla, milli gelirin nüfusa bölümü olarak tanımlanan kişi başına düşen milli geliri, kalkınma seviyesi için bir vekil olarak kullanmaya karar verdiniz. Kişi başına geliri tahmin etmek için veri kümenizdeki bazı özellikleri kullanmak istiyorsunuz. Bu görev bir sınıflandırma görevi mi yoksa bir regresyon görevi mi? Niçin?"
   ]
  },
  {
   "cell_type": "markdown",
   "metadata": {},
   "source": [
    "Bunu bir regresyon problemi olarak görmeliyiz. Gerek özellik olarak belirleyeceğimiz değişkenler gerekse hedef değişkenimiz süreklidir. "
   ]
  },
  {
   "cell_type": "markdown",
   "metadata": {},
   "source": [
    "2.  Aşağıdaki argümanlardan hangileri yanlıştır ve neden?\n",
    "    * OLS, özel bir doğrusal regresyon modelidir.\n",
    "    * Regresyon modelleri, doğrusal regresyon varsayımlarını karşılamıyorsa kullanışsız hale gelir.\n",
    "    * Estimation ve prediction, doğrusal regresyon modelleri bağlamında aynı şeydir.\n",
    "    * Doğrusal regresyon modeli sadece bir tür regresyon modelidir. Regresyon problemleri, Support Vector Machines veya Random Forests gibi başka modellerle de çözülebilir."
   ]
  },
  {
   "cell_type": "markdown",
   "metadata": {},
   "source": [
    "* Regresyon modelleri ile doğrusal regresyon modelinin çözmediği doğrusal olmayan ilişkiler de çözülebilir. Sadece doğrusal regresyon varsayımları ile sınırlandırmamalıyız. \n",
    "* Estimation ile doğrusal ilişkinin formülünü buluruz. Prediction ise bu formülü kullanarak ileriki bir sonuç için yapılan tahmindir.\n"
   ]
  },
  {
   "cell_type": "markdown",
   "metadata": {},
   "source": [
    "3. Proje yöneticinizin, şirketinizin sunduğu hangi ücretsiz hizmetlerin, müşterilerinizin daha fazla ücretli hizmet satın almasını sağladığını bulmanızı istediğini varsayalım. Bu görevi bir regresyon problemi olarak formüle edin ve üzerinde çalışmak istediğiniz potansiyel sonucu ve özellikleri yazın."
   ]
  },
  {
   "cell_type": "markdown",
   "metadata": {},
   "source": [
    "özelliklerimiz: ücretsiz hizmetlerin ayrı ayrı kaç adet alındığı. \n",
    "\n",
    "hedef değişkenimiz: satılan ücretli hizmet sayısı\n",
    "\n",
    "x eksenine ücretsiz hizmet satışını yerleştiririz. y eksenine de ücretli hizmet satışını. \n",
    "\n",
    "ücretli hizmet sayısı = ücrestiz_hizmet(n)_sayısı * katsayı + sabit\n",
    "\n",
    "Burada şöyle düşünebiliriz: Katsayımız ne kadar büyük çıkarsa o ücretsiz hizmet çeşidi daha fazla ücretli hizmet satışına ön ayak oluyor demektir. Bunu ayrı ayrı bütün ücretsiz hizmet kalemleri için deneriz."
   ]
  }
 ],
 "metadata": {
  "kernelspec": {
   "display_name": "Python 3",
   "language": "python",
   "name": "python3"
  },
  "language_info": {
   "codemirror_mode": {
    "name": "ipython",
    "version": 3
   },
   "file_extension": ".py",
   "mimetype": "text/x-python",
   "name": "python",
   "nbconvert_exporter": "python",
   "pygments_lexer": "ipython3",
   "version": "3.7.2"
  }
 },
 "nbformat": 4,
 "nbformat_minor": 2
}
