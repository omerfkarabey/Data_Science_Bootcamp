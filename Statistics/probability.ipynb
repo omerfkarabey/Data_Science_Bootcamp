{
 "cells": [
  {
   "cell_type": "code",
   "execution_count": 4,
   "metadata": {},
   "outputs": [
    {
     "name": "stdout",
     "output_type": "stream",
     "text": [
      "Rastgele seçilen bir bilgisayarın B şirketi tarafından üretilme olasılığı:  0.5\n"
     ]
    }
   ],
   "source": [
    "# üretim oranları\n",
    "pa = 0.40\n",
    "pb = 0.40\n",
    "pc = 0.20\n",
    "\n",
    "#bozuk bilgisayar oranları\n",
    "pda = 0.015\n",
    "pdb = 0.020\n",
    "pdc = 0.010\n",
    "\n",
    "# toplam bozuk bilgisayarı temsilen bir sayı\n",
    "top_bozuk = pa*pda + pb*pdb + pc*pdc \n",
    "\n",
    "# B şirketinin bozuk bilgisayar sayısını temsilen bir sayı\n",
    "bozuk_bcom = pb*pdb \n",
    "\n",
    "# Rastgele seçilen bozuk bilgisayarın B şirketi tarafından üretilme olasılığı:\n",
    "prob_bcom = bozuk_bcom / top_bozuk\n",
    "\n",
    "print('Rastgele seçilen bozuk bir bilgisayarın B şirketi tarafından üretilme olasılığı: ', prob_bcom)\n"
   ]
  },
  {
   "cell_type": "code",
   "execution_count": null,
   "metadata": {},
   "outputs": [],
   "source": []
  }
 ],
 "metadata": {
  "kernelspec": {
   "display_name": "Python 3",
   "language": "python",
   "name": "python3"
  },
  "language_info": {
   "codemirror_mode": {
    "name": "ipython",
    "version": 3
   },
   "file_extension": ".py",
   "mimetype": "text/x-python",
   "name": "python",
   "nbconvert_exporter": "python",
   "pygments_lexer": "ipython3",
   "version": "3.7.2"
  }
 },
 "nbformat": 4,
 "nbformat_minor": 2
}
