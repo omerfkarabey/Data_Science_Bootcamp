{
 "cells": [
  {
   "cell_type": "code",
   "execution_count": 1,
   "metadata": {},
   "outputs": [
    {
     "data": {
      "text/html": [
       "<div>\n",
       "<style scoped>\n",
       "    .dataframe tbody tr th:only-of-type {\n",
       "        vertical-align: middle;\n",
       "    }\n",
       "\n",
       "    .dataframe tbody tr th {\n",
       "        vertical-align: top;\n",
       "    }\n",
       "\n",
       "    .dataframe thead th {\n",
       "        text-align: right;\n",
       "    }\n",
       "</style>\n",
       "<table border=\"1\" class=\"dataframe\">\n",
       "  <thead>\n",
       "    <tr style=\"text-align: right;\">\n",
       "      <th></th>\n",
       "      <th>gender</th>\n",
       "      <th>age</th>\n",
       "      <th>salary</th>\n",
       "      <th>day</th>\n",
       "    </tr>\n",
       "  </thead>\n",
       "  <tbody>\n",
       "    <tr>\n",
       "      <th>0</th>\n",
       "      <td>male</td>\n",
       "      <td>31.131103</td>\n",
       "      <td>4840.420142</td>\n",
       "      <td>23.012324</td>\n",
       "    </tr>\n",
       "    <tr>\n",
       "      <th>1</th>\n",
       "      <td>male</td>\n",
       "      <td>24.192404</td>\n",
       "      <td>4043.504370</td>\n",
       "      <td>21.221550</td>\n",
       "    </tr>\n",
       "    <tr>\n",
       "      <th>2</th>\n",
       "      <td>male</td>\n",
       "      <td>20.852003</td>\n",
       "      <td>3516.175141</td>\n",
       "      <td>24.160140</td>\n",
       "    </tr>\n",
       "    <tr>\n",
       "      <th>3</th>\n",
       "      <td>male</td>\n",
       "      <td>40.943752</td>\n",
       "      <td>4292.162621</td>\n",
       "      <td>22.281196</td>\n",
       "    </tr>\n",
       "    <tr>\n",
       "      <th>4</th>\n",
       "      <td>male</td>\n",
       "      <td>29.523733</td>\n",
       "      <td>3781.804231</td>\n",
       "      <td>19.631381</td>\n",
       "    </tr>\n",
       "  </tbody>\n",
       "</table>\n",
       "</div>"
      ],
      "text/plain": [
       "  gender        age       salary        day\n",
       "0   male  31.131103  4840.420142  23.012324\n",
       "1   male  24.192404  4043.504370  21.221550\n",
       "2   male  20.852003  3516.175141  24.160140\n",
       "3   male  40.943752  4292.162621  22.281196\n",
       "4   male  29.523733  3781.804231  19.631381"
      ]
     },
     "execution_count": 1,
     "metadata": {},
     "output_type": "execute_result"
    }
   ],
   "source": [
    "import pandas as pd\n",
    "import numpy as np\n",
    "\n",
    "# Cinsiyet, yaş, maaş, iş gününden oluşan dataframe tanımlar.\n",
    "\n",
    "salary = pd.DataFrame()\n",
    "salary['gender'] = ['male'] * 50 + ['female'] * 50\n",
    "salary['age'] = np.append(np.random.normal(28,7,50), np.random.normal(29,6,50))\n",
    "salary['salary'] = np.append(np.random.normal(4000,500,50), np.random.normal(3800,400,50))\n",
    "salary['day'] = np.append(np.random.normal(22,4,50), np.random.normal(21,3,50))\n",
    "salary.head()"
   ]
  },
  {
   "cell_type": "code",
   "execution_count": null,
   "metadata": {},
   "outputs": [],
   "source": [
    "# built in func.larla dağılım ve eğilim ölçülerinin bulunmasını gösterir.\n",
    "\n",
    "#mean values\n",
    "np.mean(salary.age)\n",
    "np.mean(salary.salary)\n",
    "np.mean(salary.day)\n",
    "#median values\n",
    "np.median(salary.age)\n",
    "np.median(salary.salary)\n",
    "np.median(salary.day)\n",
    "#variance\n",
    "salary['salary'].var()\n",
    "salary['age'].var\n",
    "#standard deviation\n",
    "standard_dev = np.std(salary['salary'], ddof = 1)\n",
    "#standard error\n",
    "obser_number = len(salary['salary'])\n",
    "standard_dev / np.sqrt(obser_number)"
   ]
  },
  {
   "cell_type": "code",
   "execution_count": null,
   "metadata": {},
   "outputs": [],
   "source": [
    "# maaş varyans değerinin matematiksel işlemle bulunması\n",
    "# ortalama maaş\n",
    "mean_sal = salary['salary'].mean()\n",
    "total = 0\n",
    "# örneklemin boyutu\n",
    "obser_number = len(salary['salary'])\n",
    "for i in range(len(salary['salary'])):\n",
    "    total = total + (salary['salary'][i] - mean_sal)**2\n",
    "\n",
    "variance = total / (obser_number - 1)\n",
    "\n",
    "print('Maaşların varyans değeri: {}' format(variance))   "
   ]
  }
 ],
 "metadata": {
  "kernelspec": {
   "display_name": "Python 3",
   "language": "python",
   "name": "python3"
  },
  "language_info": {
   "codemirror_mode": {
    "name": "ipython",
    "version": 3
   },
   "file_extension": ".py",
   "mimetype": "text/x-python",
   "name": "python",
   "nbconvert_exporter": "python",
   "pygments_lexer": "ipython3",
   "version": "3.7.2"
  }
 },
 "nbformat": 4,
 "nbformat_minor": 2
}
