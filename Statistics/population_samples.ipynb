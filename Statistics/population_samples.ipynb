{
 "cells": [
  {
   "cell_type": "code",
   "execution_count": 1,
   "metadata": {},
   "outputs": [],
   "source": [
    "import pandas as pd\n",
    "import numpy as np\n",
    "import matplotlib.pyplot as plt"
   ]
  },
  {
   "cell_type": "code",
   "execution_count": 15,
   "metadata": {},
   "outputs": [],
   "source": [
    "df_1 = np.random.normal(100,5,1000)\n",
    "df_2 = np.random.normal(100,5,10000)"
   ]
  },
  {
   "cell_type": "code",
   "execution_count": 16,
   "metadata": {},
   "outputs": [
    {
     "data": {
      "image/png": "[encoded data removed]",
      "text/plain": [
       "<Figure size 432x288 with 2 Axes>"
      ]
     },
     "metadata": {
      "needs_background": "light"
     },
     "output_type": "display_data"
    }
   ],
   "source": [
    "plt.subplot(1,2,1)\n",
    "plt.hist(df_2)\n",
    "plt.subplot(1,2,2)\n",
    "plt.hist(df_1)\n",
    "plt.show()"
   ]
  },
  {
   "cell_type": "code",
   "execution_count": 29,
   "metadata": {},
   "outputs": [],
   "source": [
    "# Histogramlarda görüldüğü üzere örneklem yoğunluğu fazla olanın normal dağılıma daha yakın olduğu anlaşılmaktadır"
   ]
  },
  {
   "cell_type": "code",
   "execution_count": 12,
   "metadata": {},
   "outputs": [
    {
     "name": "stdout",
     "output_type": "stream",
     "text": [
      "Kaç deneme yapmak istiyorsunuz:50000\n"
     ]
    },
    {
     "data": {
      "image/png": "[encoded data removed]",
      "text/plain": [
       "<Figure size 432x288 with 1 Axes>"
      ]
     },
     "metadata": {
      "needs_background": "light"
     },
     "output_type": "display_data"
    },
    {
     "name": "stdout",
     "output_type": "stream",
     "text": [
      "Yapılan atış sayısı:  50000\n",
      "Bir sonraki atış için hesaplanan tura gelme ihtimali:  0.50044\n",
      "Bir sonraki atış için hesaplanan yazı gelme ihtimali:  0.49956\n"
     ]
    }
   ],
   "source": [
    "# programda deneme sayısı arttırıldığında yazı veya tura gelme olasılığının %50'ye yaklaştığı görülür. \n",
    "# dolayısıyla çok fazla sayıda deneme yapıldığında olası sonucu büyük oranda bilebiliriz.\n",
    "\n",
    "a = int(input('Kaç deneme yapmak istiyorsunuz:'))\n",
    "atis = []\n",
    "for i in range(1,a+1):\n",
    "    atis.append(np.random.randint(0,2))\n",
    "    \n",
    "plt.hist(atis)\n",
    "plt.show()\n",
    "yazi = 0\n",
    "tura = 0\n",
    "for i in range(len(atis)):\n",
    "    if atis[i] == 1:\n",
    "        tura += 1\n",
    "    else:\n",
    "        yazi += 1\n",
    "tura_iht = tura / len(atis)\n",
    "yazi_iht = yazi / len(atis)\n",
    "print('Yapılan atış sayısı: ', len(atis))\n",
    "print('Bir sonraki atış için hesaplanan tura gelme ihtimali: ', tura_iht)\n",
    "print('Bir sonraki atış için hesaplanan yazı gelme ihtimali: ', yazi_iht)"
   ]
  }
 ],
 "metadata": {
  "kernelspec": {
   "display_name": "Python 3",
   "language": "python",
   "name": "python3"
  },
  "language_info": {
   "codemirror_mode": {
    "name": "ipython",
    "version": 3
   },
   "file_extension": ".py",
   "mimetype": "text/x-python",
   "name": "python",
   "nbconvert_exporter": "python",
   "pygments_lexer": "ipython3",
   "version": "3.7.2"
  }
 },
 "nbformat": 4,
 "nbformat_minor": 2
}
